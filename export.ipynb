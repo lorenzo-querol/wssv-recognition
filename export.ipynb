{
 "cells": [
  {
   "cell_type": "code",
   "execution_count": 5,
   "metadata": {},
   "outputs": [],
   "source": [
    "import os\n",
    "\n",
    "os.environ[\"TF_CPP_MIN_LOG_LEVEL\"] = \"3\"\n",
    "\n",
    "import tf2onnx\n",
    "\n",
    "from config import models\n",
    "from utils import fine_tune\n",
    "\n",
    "import tensorflow as tf\n",
    "\n",
    "flag = 2\n",
    "\n",
    "base_model = models[flag][\"base_model\"]\n",
    "model_name = models[flag][\"model_name\"]\n",
    "num_layers_to_freeze = models[flag][\"num_layers_to_freeze\"]\n",
    "config = models[flag][\"config\"]"
   ]
  },
  {
   "cell_type": "code",
   "execution_count": 6,
   "metadata": {},
   "outputs": [
    {
     "data": {
      "text/plain": [
       "<tensorflow.python.checkpoint.checkpoint.CheckpointLoadStatus at 0x7f76548e5340>"
      ]
     },
     "execution_count": 6,
     "metadata": {},
     "output_type": "execute_result"
    }
   ],
   "source": [
    "model = fine_tune(\n",
    "    base_model=base_model,\n",
    "    config=config,\n",
    "    num_layers_to_freeze=num_layers_to_freeze,\n",
    ")\n",
    "\n",
    "checkpoints_path = f\"checkpoints/{model_name}/fold_{3}\"\n",
    "latest_checkpoint = tf.train.latest_checkpoint(checkpoints_path)\n",
    "model.load_weights(latest_checkpoint)"
   ]
  },
  {
   "cell_type": "code",
   "execution_count": 7,
   "metadata": {},
   "outputs": [
    {
     "ename": "AttributeError",
     "evalue": "'FuncGraph' object has no attribute '_captures'",
     "output_type": "error",
     "traceback": [
      "\u001b[0;31m---------------------------------------------------------------------------\u001b[0m",
      "\u001b[0;31mAttributeError\u001b[0m                            Traceback (most recent call last)",
      "Cell \u001b[0;32mIn[7], line 1\u001b[0m\n\u001b[0;32m----> 1\u001b[0m tf2onnx\u001b[39m.\u001b[39;49mconvert\u001b[39m.\u001b[39;49mfrom_keras(\n\u001b[1;32m      2\u001b[0m     model,\n\u001b[1;32m      3\u001b[0m     input_signature\u001b[39m=\u001b[39;49m[tf\u001b[39m.\u001b[39;49mTensorSpec([\u001b[39m1\u001b[39;49m, \u001b[39m224\u001b[39;49m, \u001b[39m224\u001b[39;49m, \u001b[39m3\u001b[39;49m], tf\u001b[39m.\u001b[39;49mfloat32, name\u001b[39m=\u001b[39;49m\u001b[39m\"\u001b[39;49m\u001b[39minput\u001b[39;49m\u001b[39m\"\u001b[39;49m)],\n\u001b[1;32m      4\u001b[0m     output_path\u001b[39m=\u001b[39;49m\u001b[39m\"\u001b[39;49m\u001b[39mexport/mobilenetv3small.onnx\u001b[39;49m\u001b[39m\"\u001b[39;49m,\n\u001b[1;32m      5\u001b[0m )\n",
      "File \u001b[0;32m~/miniconda3/envs/wssv-recognition/lib/python3.9/site-packages/tf2onnx/convert.py:475\u001b[0m, in \u001b[0;36mfrom_keras\u001b[0;34m(model, input_signature, opset, custom_ops, custom_op_handlers, custom_rewriter, inputs_as_nchw, outputs_as_nchw, extra_opset, shape_override, target, large_model, output_path, optimizers)\u001b[0m\n\u001b[1;32m    472\u001b[0m             tensorflow_core\u001b[39m.\u001b[39mpython\u001b[39m.\u001b[39mkeras\u001b[39m.\u001b[39mbackend\u001b[39m.\u001b[39mlearning_phase \u001b[39m=\u001b[39m old_get_learning_phase\n\u001b[1;32m    474\u001b[0m \u001b[39m# These inputs will be removed during freezing (includes resources, etc.)\u001b[39;00m\n\u001b[0;32m--> 475\u001b[0m graph_captures \u001b[39m=\u001b[39m concrete_func\u001b[39m.\u001b[39;49mgraph\u001b[39m.\u001b[39;49m_captures  \u001b[39m# pylint: disable=protected-access\u001b[39;00m\n\u001b[1;32m    476\u001b[0m captured_inputs \u001b[39m=\u001b[39m [t_name\u001b[39m.\u001b[39mname \u001b[39mfor\u001b[39;00m t_val, t_name \u001b[39min\u001b[39;00m graph_captures\u001b[39m.\u001b[39mvalues()]\n\u001b[1;32m    477\u001b[0m input_names \u001b[39m=\u001b[39m [input_tensor\u001b[39m.\u001b[39mname \u001b[39mfor\u001b[39;00m input_tensor \u001b[39min\u001b[39;00m concrete_func\u001b[39m.\u001b[39minputs\n\u001b[1;32m    478\u001b[0m                \u001b[39mif\u001b[39;00m input_tensor\u001b[39m.\u001b[39mname \u001b[39mnot\u001b[39;00m \u001b[39min\u001b[39;00m captured_inputs]\n",
      "\u001b[0;31mAttributeError\u001b[0m: 'FuncGraph' object has no attribute '_captures'"
     ]
    }
   ],
   "source": [
    "tf2onnx.convert.from_keras(\n",
    "    model,\n",
    "    input_signature=[tf.TensorSpec([1, 224, 224, 3], tf.float32, name=\"input\")],\n",
    "    output_path=\"export/mobilenetv3small.onnx\",\n",
    ")"
   ]
  },
  {
   "cell_type": "code",
   "execution_count": null,
   "metadata": {},
   "outputs": [
    {
     "name": "stdout",
     "output_type": "stream",
     "text": [
      "/bin/bash: /home/lorenzoquerol/miniconda3/envs/wssv-recognition/lib/libtinfo.so.6: no version information available (required by /bin/bash)\n",
      "Converting models with optimization style 'Fixed' and level 'all'\n",
      "Converting optimized ONNX model /mnt/c/Users/Enzo/Documents/GitHub/wssv-recognition/export/mobilenetv3small.onnx to ORT format model /mnt/c/Users/Enzo/Documents/GitHub/wssv-recognition/export/mobilenetv3small.ort\n",
      "Converted 1/1 models successfully.\n",
      "Generating config file from ORT format models with optimization style 'Fixed' and level 'all'\n",
      "2023-06-08 16:48:02,708 ort_format_model.utils [INFO] - Created config in /mnt/c/Users/Enzo/Documents/GitHub/wssv-recognition/export/mobilenetv3small.required_operators.config\n",
      "Converting models with optimization style 'Runtime' and level 'all'\n",
      "Converting optimized ONNX model /mnt/c/Users/Enzo/Documents/GitHub/wssv-recognition/export/mobilenetv3small.onnx to ORT format model /mnt/c/Users/Enzo/Documents/GitHub/wssv-recognition/export/mobilenetv3small.with_runtime_opt.ort\n",
      "Converted 1/1 models successfully.\n",
      "Converting models again without runtime optimizations to generate a complete config file. These converted models are temporary and will be deleted.\n",
      "Converting optimized ONNX model /mnt/c/Users/Enzo/Documents/GitHub/wssv-recognition/export/mobilenetv3small.onnx to ORT format model /mnt/c/Users/Enzo/Documents/GitHub/wssv-recognition/export/tmpn_ssfca3.without_runtime_opt/mobilenetv3small.ort\n",
      "Converted 1/1 models successfully.\n",
      "Generating config file from ORT format models with optimization style 'Runtime' and level 'all'\n",
      "2023-06-08 16:48:02,884 ort_format_model.utils [INFO] - Created config in /mnt/c/Users/Enzo/Documents/GitHub/wssv-recognition/export/mobilenetv3small.required_operators.with_runtime_opt.config\n"
     ]
    }
   ],
   "source": [
    "!python -m onnxruntime.tools.convert_onnx_models_to_ort ./export/mobilenetv3small.onnx"
   ]
  }
 ],
 "metadata": {
  "kernelspec": {
   "display_name": "Python 3 (ipykernel)",
   "language": "python",
   "name": "python3"
  },
  "language_info": {
   "codemirror_mode": {
    "name": "ipython",
    "version": 3
   },
   "file_extension": ".py",
   "mimetype": "text/x-python",
   "name": "python",
   "nbconvert_exporter": "python",
   "pygments_lexer": "ipython3",
   "version": "3.9.16"
  },
  "orig_nbformat": 4
 },
 "nbformat": 4,
 "nbformat_minor": 2
}
