{
 "cells": [
  {
   "cell_type": "code",
   "execution_count": 54,
   "metadata": {},
   "outputs": [],
   "source": [
    "import os\n",
    "\n",
    "os.environ[\"TF_CPP_MIN_LOG_LEVEL\"] = \"2\"\n",
    "\n",
    "import tensorflow as tf\n",
    "import tensorflow_addons as tfa\n",
    "import numpy as np\n",
    "import matplotlib.pyplot as plt\n",
    "from sklearn.metrics import confusion_matrix, ConfusionMatrixDisplay\n",
    "import pandas as pd"
   ]
  },
  {
   "cell_type": "code",
   "execution_count": 55,
   "metadata": {},
   "outputs": [],
   "source": [
    "class estimator:\n",
    "    _estimator_type = \"\"\n",
    "    classes_ = []\n",
    "\n",
    "    def __init__(self, model, classes):\n",
    "        self.model = model\n",
    "        self._estimator_type = \"classifier\"\n",
    "        self.classes_ = classes\n",
    "\n",
    "    def predict(self, X):\n",
    "        y_prob = self.model.predict(X)\n",
    "        y_pred = y_prob.argmax(axis=1)\n",
    "        return y_pred"
   ]
  },
  {
   "cell_type": "code",
   "execution_count": 56,
   "metadata": {},
   "outputs": [
    {
     "name": "stdout",
     "output_type": "stream",
     "text": [
      "Found 13 files belonging to 2 classes.\n"
     ]
    }
   ],
   "source": [
    "AUTOTUNE = tf.data.AUTOTUNE\n",
    "CONFIG = dict(\n",
    "    epochs=100,\n",
    "    learning_rate=1e-4,\n",
    "    batch_size=4,\n",
    "    img_shape=(224, 224),\n",
    "    input_shape=(224, 224, 3),\n",
    "    num_classes=2,\n",
    "    dropout_rate=0.6,\n",
    "    es_patience=10,\n",
    "    seed_value=42,\n",
    ")\n",
    "TEST_DIR = \"dataset-augmented/test\"\n",
    "CLASS_NAMES = [\"healthy\", \"wssv\"]\n",
    "\n",
    "test_dataset = tf.keras.utils.image_dataset_from_directory(\n",
    "    TEST_DIR,\n",
    "    seed=CONFIG[\"seed_value\"],\n",
    "    image_size=CONFIG[\"img_shape\"],\n",
    "    batch_size=CONFIG[\"batch_size\"],\n",
    "    label_mode=\"categorical\",\n",
    ").prefetch(buffer_size=AUTOTUNE)"
   ]
  },
  {
   "cell_type": "code",
   "execution_count": 57,
   "metadata": {},
   "outputs": [
    {
     "name": "stdout",
     "output_type": "stream",
     "text": [
      "4/4 [==============================] - 1s 30ms/step - loss: 0.2114 - precision: 0.8462 - recall: 0.8462 - f1_score: 0.8462 - false_negatives: 2.0000 - true_positives: 11.0000 - false_positives: 2.0000 - true_negatives: 11.0000\n",
      "Test accuracy : [0.21143880486488342, 0.8461538553237915, 0.8461538553237915, 0.8461538553237915, 2.0, 11.0, 2.0, 11.0]\n"
     ]
    }
   ],
   "source": [
    "def create_model():\n",
    "    base_model = tf.keras.applications.MobileNetV3Small(\n",
    "        input_shape=CONFIG[\"input_shape\"],\n",
    "        include_top=False,\n",
    "        classes=CONFIG[\"num_classes\"],\n",
    "    )\n",
    "    base_model.trainable = False\n",
    "\n",
    "    inputs = tf.keras.Input(shape=CONFIG[\"input_shape\"])\n",
    "    x = base_model(inputs, training=False)\n",
    "    x = tf.keras.layers.GlobalAveragePooling2D()(x)\n",
    "    x = tf.keras.layers.Dropout(rate=CONFIG[\"dropout_rate\"], seed=CONFIG[\"seed_value\"])(\n",
    "        x\n",
    "    )\n",
    "    outputs = tf.keras.layers.Dense(units=CONFIG[\"num_classes\"], activation=\"softmax\")(\n",
    "        x\n",
    "    )\n",
    "\n",
    "    model = tf.keras.Model(inputs=inputs, outputs=outputs)\n",
    "    model.compile(\n",
    "        optimizer=tf.keras.optimizers.Adam(learning_rate=CONFIG[\"learning_rate\"]),\n",
    "        loss=tf.keras.losses.CategoricalCrossentropy(from_logits=False),\n",
    "        metrics=[\n",
    "            tf.keras.metrics.Precision(name=\"precision\"),\n",
    "            tf.keras.metrics.Recall(name=\"recall\"),\n",
    "            tfa.metrics.F1Score(\n",
    "                num_classes=CONFIG[\"num_classes\"],\n",
    "                average=\"weighted\",\n",
    "                name=\"f1_score\",\n",
    "                threshold=0.5,\n",
    "            ),\n",
    "            tf.keras.metrics.FalseNegatives(name=\"false_negatives\"),\n",
    "            tf.keras.metrics.TruePositives(name=\"true_positives\"),\n",
    "            tf.keras.metrics.FalsePositives(name=\"false_positives\"),\n",
    "            tf.keras.metrics.TrueNegatives(name=\"true_negatives\"),\n",
    "        ],\n",
    "    )\n",
    "\n",
    "    return model\n",
    "\n",
    "\n",
    "checkpoint_filepath = \"checkpoints_mobilenetv3small\"\n",
    "latest = tf.train.latest_checkpoint(checkpoint_filepath)\n",
    "\n",
    "model = create_model()\n",
    "model.load_weights(latest).expect_partial()\n",
    "\n",
    "results = model.evaluate(test_dataset)\n",
    "print(\"Test accuracy :\", results)\n",
    "\n",
    "test_images = []\n",
    "test_labels = []\n",
    "\n",
    "for X, y in test_dataset.as_numpy_iterator():\n",
    "    test_images.append(X)\n",
    "    test_labels.append(y)\n",
    "\n",
    "test_images = np.concatenate(test_images)\n",
    "test_labels = np.concatenate(test_labels)\n",
    "test_labels = np.argmax(test_labels, axis=1)"
   ]
  },
  {
   "cell_type": "code",
   "execution_count": 61,
   "metadata": {},
   "outputs": [],
   "source": [
    "# export results as csv\n",
    "df = pd.DataFrame(\n",
    "    np.array(results).reshape(1, -1),\n",
    "    columns=[\n",
    "        \"loss\",\n",
    "        \"precision\",\n",
    "        \"recall\",\n",
    "        \"f1_score\",\n",
    "        \"false_negatives\",\n",
    "        \"true_positives\",\n",
    "        \"false_positives\",\n",
    "        \"true_negatives\",\n",
    "    ],\n",
    ")\n",
    "df.to_csv(\"results/mobilenet-test.csv\")"
   ]
  },
  {
   "cell_type": "code",
   "execution_count": null,
   "metadata": {},
   "outputs": [
    {
     "name": "stdout",
     "output_type": "stream",
     "text": [
      "WARNING:tensorflow:6 out of the last 18 calls to <function Model.make_predict_function.<locals>.predict_function at 0x7f36693a3280> triggered tf.function retracing. Tracing is expensive and the excessive number of tracings could be due to (1) creating @tf.function repeatedly in a loop, (2) passing tensors with different shapes, (3) passing Python objects instead of tensors. For (1), please define your @tf.function outside of the loop. For (2), @tf.function has reduce_retracing=True option that can avoid unnecessary retracing. For (3), please refer to https://www.tensorflow.org/guide/function#controlling_retracing and https://www.tensorflow.org/api_docs/python/tf/function for  more details.\n",
      "1/1 [==============================] - 1s 580ms/step\n"
     ]
    },
    {
     "data": {
      "image/png": "[encoded data removed]",
      "text/plain": [
       "<Figure size 640x480 with 2 Axes>"
      ]
     },
     "metadata": {},
     "output_type": "display_data"
    }
   ],
   "source": [
    "predictions = model.predict(test_images)\n",
    "predictions = np.argmax(predictions, axis=1).tolist()\n",
    "\n",
    "# Get confusion matrix\n",
    "cm = confusion_matrix(test_labels, predictions, normalize=\"true\")\n",
    "disp = ConfusionMatrixDisplay(confusion_matrix=cm, display_labels=CLASS_NAMES)\n",
    "disp.plot(cmap=plt.cm.Blues)\n",
    "plt.title(\"Confusion Matrix for MobileNetV3Small\")\n",
    "plt.show()"
   ]
  }
 ],
 "metadata": {
  "kernelspec": {
   "display_name": "Python 3 (ipykernel)",
   "language": "python",
   "name": "python3"
  },
  "language_info": {
   "codemirror_mode": {
    "name": "ipython",
    "version": 3
   },
   "file_extension": ".py",
   "mimetype": "text/x-python",
   "name": "python",
   "nbconvert_exporter": "python",
   "pygments_lexer": "ipython3",
   "version": "3.9.16"
  },
  "orig_nbformat": 4
 },
 "nbformat": 4,
 "nbformat_minor": 2
}
