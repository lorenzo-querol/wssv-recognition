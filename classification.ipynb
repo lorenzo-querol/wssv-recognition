{
 "cells": [
  {
   "cell_type": "code",
   "execution_count": 40,
   "metadata": {
    "colab": {
     "base_uri": "https://localhost:8080/"
    },
    "id": "qs7yCV0N2BZJ",
    "outputId": "b4f23303-9266-4a37-f7d9-4f3ebf66c86c"
   },
   "outputs": [],
   "source": [
    "import matplotlib.pyplot as plt\n",
    "import tensorflow as tf\n",
    "import tensorflow_addons as tfa\n",
    "import pathlib\n",
    "import wandb\n",
    "from wandb.keras import WandbCallback\n",
    "import numpy as np\n",
    "import os\n",
    "\n",
    "os.environ['TF_CPP_MIN_LOG_LEVEL'] = '2'"
   ]
  },
  {
   "cell_type": "code",
   "execution_count": 41,
   "metadata": {
    "colab": {
     "base_uri": "https://localhost:8080/"
    },
    "id": "FGqTF6u02BZO",
    "outputId": "d18d0b34-7c86-429f-9ee0-030a30a9a0b3"
   },
   "outputs": [
    {
     "name": "stdout",
     "output_type": "stream",
     "text": [
      "2.12.0\n",
      "[PhysicalDevice(name='/physical_device:GPU:0', device_type='GPU')]\n"
     ]
    }
   ],
   "source": [
    "print(tf.__version__)\n",
    "print(tf.config.list_physical_devices(\"GPU\"))"
   ]
  },
  {
   "cell_type": "code",
   "execution_count": 42,
   "metadata": {
    "colab": {
     "base_uri": "https://localhost:8080/",
     "height": 126
    },
    "id": "ZUkAnUoS2BZP",
    "outputId": "2688f81a-61f5-40b6-f59e-2ba5ed1ba415"
   },
   "outputs": [],
   "source": [
    "DATA_DIR = pathlib.Path(\"augmented_dataset\")\n",
    "AUTOTUNE = tf.data.AUTOTUNE\n",
    "\n",
    "CONFIG = dict(\n",
    "    epochs=100,\n",
    "    learning_rate=1e-3,\n",
    "    batch_size=16,\n",
    "    img_shape=(224, 224),\n",
    "    input_shape=(224, 224, 3),\n",
    "    num_classes=2,\n",
    "    dropout_rate=0.2,\n",
    "    es_patience=20,\n",
    "    valid_split=0.4,\n",
    "    seed_value=42,\n",
    ")"
   ]
  },
  {
   "cell_type": "code",
   "execution_count": 43,
   "metadata": {
    "colab": {
     "base_uri": "https://localhost:8080/"
    },
    "id": "4oa6es7D2BZQ",
    "outputId": "345d0b59-fb1f-4c5a-9dfd-b1bb2201593c"
   },
   "outputs": [
    {
     "name": "stdout",
     "output_type": "stream",
     "text": [
      "Total number of images: 930\n",
      "Healthy: 702\n",
      "WSSV: 228\n",
      "\n",
      "Found 930 files belonging to 2 classes.\n",
      "Using 558 files for training.\n",
      "Using 372 files for validation.\n",
      "\n",
      "Class names: ['healthy', 'wssv']\n"
     ]
    }
   ],
   "source": [
    "image_count = len(list(DATA_DIR.glob(\"*/*.jpg\")))\n",
    "healthy_count = len(list(DATA_DIR.glob(\"healthy/*.jpg\")))\n",
    "wssv_count = len(list(DATA_DIR.glob(\"wssv/*.jpg\")))\n",
    "\n",
    "print(f\"Total number of images: {image_count}\")\n",
    "print(f\"Healthy: {healthy_count}\")\n",
    "print(f\"WSSV: {wssv_count}\\n\")\n",
    "\n",
    "train_set, valid_set = tf.keras.utils.image_dataset_from_directory(\n",
    "    DATA_DIR,\n",
    "    validation_split=CONFIG[\"valid_split\"],\n",
    "    seed=CONFIG[\"seed_value\"],\n",
    "    image_size=CONFIG[\"img_shape\"],\n",
    "    batch_size=CONFIG[\"batch_size\"],\n",
    "    label_mode=\"binary\",\n",
    "    subset=\"both\",\n",
    ")\n",
    "\n",
    "class_names = train_set.class_names\n",
    "print(f\"\\nClass names: {class_names}\")"
   ]
  },
  {
   "cell_type": "code",
   "execution_count": 44,
   "metadata": {
    "colab": {
     "base_uri": "https://localhost:8080/"
    },
    "id": "XDS0XQN52BZQ",
    "outputId": "a86a1d42-a267-4e67-995e-c0689ea1a53d"
   },
   "outputs": [
    {
     "name": "stdout",
     "output_type": "stream",
     "text": [
      "\n",
      "Number of training batches: 35\n",
      "Number of validation batches: 20\n",
      "Number of test batches: 4\n"
     ]
    }
   ],
   "source": [
    "validation_batches = tf.data.experimental.cardinality(valid_set)\n",
    "validation_dataset = valid_set.skip(validation_batches // 5)\n",
    "test_dataset = valid_set.take(validation_batches // 5)\n",
    "\n",
    "'''\n",
    "Prefetch for faster loading\n",
    "'''\n",
    "train_dataset = train_set.prefetch(buffer_size=AUTOTUNE)\n",
    "validation_dataset = validation_dataset.prefetch(buffer_size=AUTOTUNE)\n",
    "test_dataset = test_dataset.prefetch(buffer_size=AUTOTUNE)\n",
    "\n",
    "'''\n",
    "Get number of batches per split\n",
    "'''\n",
    "num_training_batches = tf.data.experimental.cardinality(train_dataset)\n",
    "num_validation_batches = tf.data.experimental.cardinality(validation_dataset)\n",
    "num_test_batches = tf.data.experimental.cardinality(test_dataset)\n",
    "\n",
    "print(f\"\\nNumber of training batches: {num_training_batches}\")\n",
    "print(f\"Number of validation batches: {num_validation_batches}\")\n",
    "print(f\"Number of test batches: {num_test_batches}\")"
   ]
  },
  {
   "cell_type": "code",
   "execution_count": 45,
   "metadata": {
    "id": "89hDDdFV2BZR"
   },
   "outputs": [],
   "source": [
    "def create_model():\n",
    "    metrics = [\n",
    "        tf.keras.metrics.Precision(thresholds=0, name='precision'),\n",
    "        tf.keras.metrics.Recall(thresholds=0, name='recall'),\n",
    "        tfa.metrics.F1Score(num_classes=1, average=\"weighted\", name=\"f1_score\", threshold=0.5),\n",
    "        tf.keras.metrics.FalseNegatives(thresholds=0, name='false_negatives'),\n",
    "        tf.keras.metrics.TruePositives(thresholds=0, name='true_positives')\n",
    "    ]\n",
    "    \n",
    "    base_model = tf.keras.applications.MobileNetV3Small(input_shape=CONFIG[\"input_shape\"], include_top=False)\n",
    "    base_model.trainable = False\n",
    "    \n",
    "    inputs = tf.keras.Input(shape=CONFIG[\"input_shape\"])\n",
    "    x = base_model(inputs, training=False)\n",
    "    x = tf.keras.layers.GlobalAveragePooling2D()(x)\n",
    "    x = tf.keras.layers.Dropout(rate=CONFIG[\"dropout_rate\"], seed=CONFIG[\"seed_value\"])(x)\n",
    "    outputs = tf.keras.layers.Dense(units=1)(x)\n",
    "\n",
    "    model = tf.keras.Model(inputs=inputs, outputs=outputs)\n",
    "    model.compile(\n",
    "        optimizer=tf.keras.optimizers.Adam(learning_rate=CONFIG[\"learning_rate\"]),\n",
    "        loss=tf.keras.losses.BinaryCrossentropy(from_logits=True),\n",
    "        metrics=metrics,\n",
    "    )\n",
    "\n",
    "    return model"
   ]
  },
  {
   "cell_type": "code",
   "execution_count": 46,
   "metadata": {
    "colab": {
     "base_uri": "https://localhost:8080/"
    },
    "id": "MHOOBatH2BZS",
    "outputId": "82c8bd7b-bb78-4eea-c282-0f48cf552e22",
    "tags": []
   },
   "outputs": [
    {
     "data": {
      "application/vnd.jupyter.widget-view+json": {
       "model_id": "01770f42de7c46f98a35c6ffd83fbb16",
       "version_major": 2,
       "version_minor": 0
      },
      "text/plain": [
       "Training:   0%|                                                                                               …"
      ]
     },
     "metadata": {},
     "output_type": "display_data"
    },
    {
     "name": "stdout",
     "output_type": "stream",
     "text": [
      "Epoch 1/100\n"
     ]
    },
    {
     "name": "stderr",
     "output_type": "stream",
     "text": [
      "2023-05-17 00:19:04.470110: I tensorflow/core/common_runtime/executor.cc:1197] [/device:CPU:0] (DEBUG INFO) Executor start aborting (this does not indicate an error and you can ignore this message): INVALID_ARGUMENT: You must feed a value for placeholder tensor 'Placeholder/_0' with dtype string and shape [558]\n",
      "\t [[{{node Placeholder/_0}}]]\n",
      "2023-05-17 00:19:04.470462: I tensorflow/core/common_runtime/executor.cc:1197] [/device:CPU:0] (DEBUG INFO) Executor start aborting (this does not indicate an error and you can ignore this message): INVALID_ARGUMENT: You must feed a value for placeholder tensor 'Placeholder/_21' with dtype float and shape [2]\n",
      "\t [[{{node Placeholder/_21}}]]\n"
     ]
    },
    {
     "data": {
      "application/vnd.jupyter.widget-view+json": {
       "model_id": "52021a2c38dc4f0eb9a365fd869f3a76",
       "version_major": 2,
       "version_minor": 0
      },
      "text/plain": [
       "0/35                                                                                                          …"
      ]
     },
     "metadata": {},
     "output_type": "display_data"
    },
    {
     "name": "stderr",
     "output_type": "stream",
     "text": [
      "2023-05-17 00:19:07.639913: I tensorflow/core/common_runtime/executor.cc:1197] [/device:CPU:0] (DEBUG INFO) Executor start aborting (this does not indicate an error and you can ignore this message): INVALID_ARGUMENT: You must feed a value for placeholder tensor 'Placeholder/_4' with dtype int32 and shape [372]\n",
      "\t [[{{node Placeholder/_4}}]]\n",
      "2023-05-17 00:19:07.640158: I tensorflow/core/common_runtime/executor.cc:1197] [/device:CPU:0] (DEBUG INFO) Executor start aborting (this does not indicate an error and you can ignore this message): INVALID_ARGUMENT: You must feed a value for placeholder tensor 'Placeholder/_4' with dtype int32 and shape [372]\n",
      "\t [[{{node Placeholder/_4}}]]\n"
     ]
    },
    {
     "name": "stdout",
     "output_type": "stream",
     "text": [
      "\n",
      "Epoch 1: val_loss improved from inf to 0.59382, saving model to checkpoints/cp-0001.ckpt\n",
      "Epoch 2/100\n"
     ]
    },
    {
     "data": {
      "application/vnd.jupyter.widget-view+json": {
       "model_id": "d42b6f96f01245c99d3bf046d9cad727",
       "version_major": 2,
       "version_minor": 0
      },
      "text/plain": [
       "0/35                                                                                                          …"
      ]
     },
     "metadata": {},
     "output_type": "display_data"
    },
    {
     "name": "stdout",
     "output_type": "stream",
     "text": [
      "\n",
      "Epoch 2: val_loss improved from 0.59382 to 0.45638, saving model to checkpoints/cp-0002.ckpt\n",
      "Epoch 3/100\n"
     ]
    },
    {
     "data": {
      "application/vnd.jupyter.widget-view+json": {
       "model_id": "742700b7e40e4e8db1cf8f3a3127c484",
       "version_major": 2,
       "version_minor": 0
      },
      "text/plain": [
       "0/35                                                                                                          …"
      ]
     },
     "metadata": {},
     "output_type": "display_data"
    },
    {
     "name": "stdout",
     "output_type": "stream",
     "text": [
      "\n",
      "Epoch 3: val_loss improved from 0.45638 to 0.41495, saving model to checkpoints/cp-0003.ckpt\n",
      "Epoch 4/100\n"
     ]
    },
    {
     "data": {
      "application/vnd.jupyter.widget-view+json": {
       "model_id": "e2414ffa7d3a43fcba7d71c4ec7f74a6",
       "version_major": 2,
       "version_minor": 0
      },
      "text/plain": [
       "0/35                                                                                                          …"
      ]
     },
     "metadata": {},
     "output_type": "display_data"
    },
    {
     "name": "stdout",
     "output_type": "stream",
     "text": [
      "\n",
      "Epoch 4: val_loss improved from 0.41495 to 0.39756, saving model to checkpoints/cp-0004.ckpt\n",
      "Epoch 5/100\n"
     ]
    },
    {
     "data": {
      "application/vnd.jupyter.widget-view+json": {
       "model_id": "1044b7e176f9489ca7d66acc99241cb9",
       "version_major": 2,
       "version_minor": 0
      },
      "text/plain": [
       "0/35                                                                                                          …"
      ]
     },
     "metadata": {},
     "output_type": "display_data"
    },
    {
     "name": "stdout",
     "output_type": "stream",
     "text": [
      "\n",
      "Epoch 5: val_loss improved from 0.39756 to 0.34727, saving model to checkpoints/cp-0005.ckpt\n",
      "Epoch 6/100\n"
     ]
    },
    {
     "data": {
      "application/vnd.jupyter.widget-view+json": {
       "model_id": "6a858864287646b78933f335b83d1cf5",
       "version_major": 2,
       "version_minor": 0
      },
      "text/plain": [
       "0/35                                                                                                          …"
      ]
     },
     "metadata": {},
     "output_type": "display_data"
    },
    {
     "name": "stdout",
     "output_type": "stream",
     "text": [
      "\n",
      "Epoch 6: val_loss did not improve from 0.34727\n",
      "Epoch 7/100\n"
     ]
    },
    {
     "data": {
      "application/vnd.jupyter.widget-view+json": {
       "model_id": "85806c72a374422e98c8065ff5f00e6e",
       "version_major": 2,
       "version_minor": 0
      },
      "text/plain": [
       "0/35                                                                                                          …"
      ]
     },
     "metadata": {},
     "output_type": "display_data"
    },
    {
     "name": "stdout",
     "output_type": "stream",
     "text": [
      "\n",
      "Epoch 7: val_loss improved from 0.34727 to 0.31746, saving model to checkpoints/cp-0007.ckpt\n",
      "Epoch 8/100\n"
     ]
    },
    {
     "data": {
      "application/vnd.jupyter.widget-view+json": {
       "model_id": "d484380cc3cf477ca0d0eb42c32b8c54",
       "version_major": 2,
       "version_minor": 0
      },
      "text/plain": [
       "0/35                                                                                                          …"
      ]
     },
     "metadata": {},
     "output_type": "display_data"
    },
    {
     "name": "stdout",
     "output_type": "stream",
     "text": [
      "\n",
      "Epoch 8: val_loss did not improve from 0.31746\n",
      "Epoch 9/100\n"
     ]
    },
    {
     "data": {
      "application/vnd.jupyter.widget-view+json": {
       "model_id": "8a4a575d61a04d94a25dac534b41d58f",
       "version_major": 2,
       "version_minor": 0
      },
      "text/plain": [
       "0/35                                                                                                          …"
      ]
     },
     "metadata": {},
     "output_type": "display_data"
    },
    {
     "name": "stdout",
     "output_type": "stream",
     "text": [
      "\n",
      "Epoch 9: val_loss improved from 0.31746 to 0.30836, saving model to checkpoints/cp-0009.ckpt\n",
      "Epoch 10/100\n"
     ]
    },
    {
     "data": {
      "application/vnd.jupyter.widget-view+json": {
       "model_id": "485f13122e1c4bf8a8e79bd9c504a4a9",
       "version_major": 2,
       "version_minor": 0
      },
      "text/plain": [
       "0/35                                                                                                          …"
      ]
     },
     "metadata": {},
     "output_type": "display_data"
    },
    {
     "name": "stdout",
     "output_type": "stream",
     "text": [
      "\n",
      "Epoch 10: val_loss improved from 0.30836 to 0.27832, saving model to checkpoints/cp-0010.ckpt\n",
      "Epoch 11/100\n"
     ]
    },
    {
     "data": {
      "application/vnd.jupyter.widget-view+json": {
       "model_id": "be1f8cd39b1d4900ae392be66c81af36",
       "version_major": 2,
       "version_minor": 0
      },
      "text/plain": [
       "0/35                                                                                                          …"
      ]
     },
     "metadata": {},
     "output_type": "display_data"
    },
    {
     "name": "stdout",
     "output_type": "stream",
     "text": [
      "\n",
      "Epoch 11: val_loss did not improve from 0.27832\n",
      "Epoch 12/100\n"
     ]
    },
    {
     "data": {
      "application/vnd.jupyter.widget-view+json": {
       "model_id": "ac0001e7ec80408fa6f5845696fa2697",
       "version_major": 2,
       "version_minor": 0
      },
      "text/plain": [
       "0/35                                                                                                          …"
      ]
     },
     "metadata": {},
     "output_type": "display_data"
    },
    {
     "name": "stdout",
     "output_type": "stream",
     "text": [
      "\n",
      "Epoch 12: val_loss improved from 0.27832 to 0.27019, saving model to checkpoints/cp-0012.ckpt\n",
      "Epoch 13/100\n"
     ]
    },
    {
     "data": {
      "application/vnd.jupyter.widget-view+json": {
       "model_id": "1124597c9ea147c7823bcab634a4600c",
       "version_major": 2,
       "version_minor": 0
      },
      "text/plain": [
       "0/35                                                                                                          …"
      ]
     },
     "metadata": {},
     "output_type": "display_data"
    },
    {
     "name": "stdout",
     "output_type": "stream",
     "text": [
      "\n",
      "Epoch 13: val_loss did not improve from 0.27019\n",
      "Epoch 14/100\n"
     ]
    },
    {
     "data": {
      "application/vnd.jupyter.widget-view+json": {
       "model_id": "f9fbe8fd8e104a9ba5a5bd38b2b125a8",
       "version_major": 2,
       "version_minor": 0
      },
      "text/plain": [
       "0/35                                                                                                          …"
      ]
     },
     "metadata": {},
     "output_type": "display_data"
    },
    {
     "name": "stdout",
     "output_type": "stream",
     "text": [
      "\n",
      "Epoch 14: val_loss improved from 0.27019 to 0.25011, saving model to checkpoints/cp-0014.ckpt\n",
      "Epoch 15/100\n"
     ]
    },
    {
     "data": {
      "application/vnd.jupyter.widget-view+json": {
       "model_id": "5fec4d745d6d412aa844117dbab384e4",
       "version_major": 2,
       "version_minor": 0
      },
      "text/plain": [
       "0/35                                                                                                          …"
      ]
     },
     "metadata": {},
     "output_type": "display_data"
    },
    {
     "name": "stdout",
     "output_type": "stream",
     "text": [
      "\n",
      "Epoch 15: val_loss improved from 0.25011 to 0.23929, saving model to checkpoints/cp-0015.ckpt\n",
      "Epoch 16/100\n"
     ]
    },
    {
     "data": {
      "application/vnd.jupyter.widget-view+json": {
       "model_id": "266315168ae54f8781a62237b550be4c",
       "version_major": 2,
       "version_minor": 0
      },
      "text/plain": [
       "0/35                                                                                                          …"
      ]
     },
     "metadata": {},
     "output_type": "display_data"
    },
    {
     "name": "stdout",
     "output_type": "stream",
     "text": [
      "\n",
      "Epoch 16: val_loss did not improve from 0.23929\n",
      "Epoch 17/100\n"
     ]
    },
    {
     "data": {
      "application/vnd.jupyter.widget-view+json": {
       "model_id": "9ebc644ab051453ea2ecb240b892da66",
       "version_major": 2,
       "version_minor": 0
      },
      "text/plain": [
       "0/35                                                                                                          …"
      ]
     },
     "metadata": {},
     "output_type": "display_data"
    },
    {
     "name": "stdout",
     "output_type": "stream",
     "text": [
      "\n",
      "Epoch 17: val_loss improved from 0.23929 to 0.23425, saving model to checkpoints/cp-0017.ckpt\n",
      "Epoch 18/100\n"
     ]
    },
    {
     "data": {
      "application/vnd.jupyter.widget-view+json": {
       "model_id": "bdcebdd007b449558495c4bd89318069",
       "version_major": 2,
       "version_minor": 0
      },
      "text/plain": [
       "0/35                                                                                                          …"
      ]
     },
     "metadata": {},
     "output_type": "display_data"
    },
    {
     "name": "stdout",
     "output_type": "stream",
     "text": [
      "\n",
      "Epoch 18: val_loss improved from 0.23425 to 0.22629, saving model to checkpoints/cp-0018.ckpt\n",
      "Epoch 19/100\n"
     ]
    },
    {
     "data": {
      "application/vnd.jupyter.widget-view+json": {
       "model_id": "508ef8c3634749e0a395bad5d773486b",
       "version_major": 2,
       "version_minor": 0
      },
      "text/plain": [
       "0/35                                                                                                          …"
      ]
     },
     "metadata": {},
     "output_type": "display_data"
    },
    {
     "name": "stdout",
     "output_type": "stream",
     "text": [
      "\n",
      "Epoch 19: val_loss improved from 0.22629 to 0.21873, saving model to checkpoints/cp-0019.ckpt\n",
      "Epoch 20/100\n"
     ]
    },
    {
     "data": {
      "application/vnd.jupyter.widget-view+json": {
       "model_id": "7a779addd96a476d92a9723288745bbf",
       "version_major": 2,
       "version_minor": 0
      },
      "text/plain": [
       "0/35                                                                                                          …"
      ]
     },
     "metadata": {},
     "output_type": "display_data"
    },
    {
     "name": "stdout",
     "output_type": "stream",
     "text": [
      "\n",
      "Epoch 20: val_loss improved from 0.21873 to 0.21572, saving model to checkpoints/cp-0020.ckpt\n",
      "Epoch 21/100\n"
     ]
    },
    {
     "data": {
      "application/vnd.jupyter.widget-view+json": {
       "model_id": "8204537e8a9b416a88846729ed038ef8",
       "version_major": 2,
       "version_minor": 0
      },
      "text/plain": [
       "0/35                                                                                                          …"
      ]
     },
     "metadata": {},
     "output_type": "display_data"
    },
    {
     "name": "stdout",
     "output_type": "stream",
     "text": [
      "\n",
      "Epoch 21: val_loss improved from 0.21572 to 0.21427, saving model to checkpoints/cp-0021.ckpt\n",
      "Epoch 22/100\n"
     ]
    },
    {
     "data": {
      "application/vnd.jupyter.widget-view+json": {
       "model_id": "43f5f96338ac41e39e2938a24076a711",
       "version_major": 2,
       "version_minor": 0
      },
      "text/plain": [
       "0/35                                                                                                          …"
      ]
     },
     "metadata": {},
     "output_type": "display_data"
    },
    {
     "name": "stdout",
     "output_type": "stream",
     "text": [
      "\n",
      "Epoch 22: val_loss improved from 0.21427 to 0.21164, saving model to checkpoints/cp-0022.ckpt\n",
      "Epoch 23/100\n"
     ]
    },
    {
     "data": {
      "application/vnd.jupyter.widget-view+json": {
       "model_id": "a139eda67a2c4f4ea8cf164168d4e57b",
       "version_major": 2,
       "version_minor": 0
      },
      "text/plain": [
       "0/35                                                                                                          …"
      ]
     },
     "metadata": {},
     "output_type": "display_data"
    },
    {
     "name": "stdout",
     "output_type": "stream",
     "text": [
      "\n",
      "Epoch 23: val_loss improved from 0.21164 to 0.20589, saving model to checkpoints/cp-0023.ckpt\n",
      "Epoch 24/100\n"
     ]
    },
    {
     "data": {
      "application/vnd.jupyter.widget-view+json": {
       "model_id": "16bd2ce2a38945b58318b5f2efd1b21f",
       "version_major": 2,
       "version_minor": 0
      },
      "text/plain": [
       "0/35                                                                                                          …"
      ]
     },
     "metadata": {},
     "output_type": "display_data"
    },
    {
     "name": "stdout",
     "output_type": "stream",
     "text": [
      "\n",
      "Epoch 24: val_loss did not improve from 0.20589\n",
      "Epoch 25/100\n"
     ]
    },
    {
     "data": {
      "application/vnd.jupyter.widget-view+json": {
       "model_id": "a830b15a2d734ce7a71dc770385e2e5c",
       "version_major": 2,
       "version_minor": 0
      },
      "text/plain": [
       "0/35                                                                                                          …"
      ]
     },
     "metadata": {},
     "output_type": "display_data"
    },
    {
     "name": "stdout",
     "output_type": "stream",
     "text": [
      "\n",
      "Epoch 25: val_loss improved from 0.20589 to 0.19662, saving model to checkpoints/cp-0025.ckpt\n",
      "Epoch 26/100\n"
     ]
    },
    {
     "data": {
      "application/vnd.jupyter.widget-view+json": {
       "model_id": "4319040c9c834585a3112a64fb1ad842",
       "version_major": 2,
       "version_minor": 0
      },
      "text/plain": [
       "0/35                                                                                                          …"
      ]
     },
     "metadata": {},
     "output_type": "display_data"
    },
    {
     "name": "stdout",
     "output_type": "stream",
     "text": [
      "\n",
      "Epoch 26: val_loss did not improve from 0.19662\n",
      "Epoch 27/100\n"
     ]
    },
    {
     "data": {
      "application/vnd.jupyter.widget-view+json": {
       "model_id": "2583c9c43a0a444490a45e33b06cbcc9",
       "version_major": 2,
       "version_minor": 0
      },
      "text/plain": [
       "0/35                                                                                                          …"
      ]
     },
     "metadata": {},
     "output_type": "display_data"
    },
    {
     "name": "stdout",
     "output_type": "stream",
     "text": [
      "\n",
      "Epoch 27: val_loss improved from 0.19662 to 0.19206, saving model to checkpoints/cp-0027.ckpt\n",
      "Epoch 28/100\n"
     ]
    },
    {
     "data": {
      "application/vnd.jupyter.widget-view+json": {
       "model_id": "95b285c1304944b086490e7e6c41c0ff",
       "version_major": 2,
       "version_minor": 0
      },
      "text/plain": [
       "0/35                                                                                                          …"
      ]
     },
     "metadata": {},
     "output_type": "display_data"
    },
    {
     "name": "stdout",
     "output_type": "stream",
     "text": [
      "\n",
      "Epoch 28: val_loss improved from 0.19206 to 0.18708, saving model to checkpoints/cp-0028.ckpt\n",
      "Epoch 29/100\n"
     ]
    },
    {
     "data": {
      "application/vnd.jupyter.widget-view+json": {
       "model_id": "41ad09b866cf461f9a7e7bca1a5e4173",
       "version_major": 2,
       "version_minor": 0
      },
      "text/plain": [
       "0/35                                                                                                          …"
      ]
     },
     "metadata": {},
     "output_type": "display_data"
    },
    {
     "name": "stdout",
     "output_type": "stream",
     "text": [
      "\n",
      "Epoch 29: val_loss improved from 0.18708 to 0.18421, saving model to checkpoints/cp-0029.ckpt\n",
      "Epoch 30/100\n"
     ]
    },
    {
     "data": {
      "application/vnd.jupyter.widget-view+json": {
       "model_id": "e64452e9238947b4ae96e949af7c5cfd",
       "version_major": 2,
       "version_minor": 0
      },
      "text/plain": [
       "0/35                                                                                                          …"
      ]
     },
     "metadata": {},
     "output_type": "display_data"
    },
    {
     "name": "stdout",
     "output_type": "stream",
     "text": [
      "\n",
      "Epoch 30: val_loss did not improve from 0.18421\n",
      "Epoch 31/100\n"
     ]
    },
    {
     "data": {
      "application/vnd.jupyter.widget-view+json": {
       "model_id": "aedcf75bde084d399a2848532484a8df",
       "version_major": 2,
       "version_minor": 0
      },
      "text/plain": [
       "0/35                                                                                                          …"
      ]
     },
     "metadata": {},
     "output_type": "display_data"
    },
    {
     "name": "stdout",
     "output_type": "stream",
     "text": [
      "\n",
      "Epoch 31: val_loss did not improve from 0.18421\n",
      "Epoch 32/100\n"
     ]
    },
    {
     "data": {
      "application/vnd.jupyter.widget-view+json": {
       "model_id": "62d6c4561ac04c6c8a4e790a838be667",
       "version_major": 2,
       "version_minor": 0
      },
      "text/plain": [
       "0/35                                                                                                          …"
      ]
     },
     "metadata": {},
     "output_type": "display_data"
    },
    {
     "name": "stdout",
     "output_type": "stream",
     "text": [
      "\n",
      "Epoch 32: val_loss improved from 0.18421 to 0.17928, saving model to checkpoints/cp-0032.ckpt\n",
      "Epoch 33/100\n"
     ]
    },
    {
     "data": {
      "application/vnd.jupyter.widget-view+json": {
       "model_id": "4ee5e91641ef47599cbe7f9b51a87fd2",
       "version_major": 2,
       "version_minor": 0
      },
      "text/plain": [
       "0/35                                                                                                          …"
      ]
     },
     "metadata": {},
     "output_type": "display_data"
    },
    {
     "name": "stdout",
     "output_type": "stream",
     "text": [
      "\n",
      "Epoch 33: val_loss improved from 0.17928 to 0.17301, saving model to checkpoints/cp-0033.ckpt\n",
      "Epoch 34/100\n"
     ]
    },
    {
     "data": {
      "application/vnd.jupyter.widget-view+json": {
       "model_id": "c7a8ac682e394c549ba02a776e39710c",
       "version_major": 2,
       "version_minor": 0
      },
      "text/plain": [
       "0/35                                                                                                          …"
      ]
     },
     "metadata": {},
     "output_type": "display_data"
    },
    {
     "name": "stdout",
     "output_type": "stream",
     "text": [
      "\n",
      "Epoch 34: val_loss improved from 0.17301 to 0.17103, saving model to checkpoints/cp-0034.ckpt\n",
      "Epoch 35/100\n"
     ]
    },
    {
     "data": {
      "application/vnd.jupyter.widget-view+json": {
       "model_id": "530eead8482140429271e4a7bdf48584",
       "version_major": 2,
       "version_minor": 0
      },
      "text/plain": [
       "0/35                                                                                                          …"
      ]
     },
     "metadata": {},
     "output_type": "display_data"
    },
    {
     "name": "stdout",
     "output_type": "stream",
     "text": [
      "\n",
      "Epoch 35: val_loss did not improve from 0.17103\n",
      "Epoch 36/100\n"
     ]
    },
    {
     "data": {
      "application/vnd.jupyter.widget-view+json": {
       "model_id": "090e7e088bd54658815d988269dfb1d6",
       "version_major": 2,
       "version_minor": 0
      },
      "text/plain": [
       "0/35                                                                                                          …"
      ]
     },
     "metadata": {},
     "output_type": "display_data"
    },
    {
     "name": "stdout",
     "output_type": "stream",
     "text": [
      "\n",
      "Epoch 36: val_loss improved from 0.17103 to 0.16334, saving model to checkpoints/cp-0036.ckpt\n",
      "Epoch 37/100\n"
     ]
    },
    {
     "data": {
      "application/vnd.jupyter.widget-view+json": {
       "model_id": "7eb36a9493b54856880013391940be7f",
       "version_major": 2,
       "version_minor": 0
      },
      "text/plain": [
       "0/35                                                                                                          …"
      ]
     },
     "metadata": {},
     "output_type": "display_data"
    },
    {
     "name": "stdout",
     "output_type": "stream",
     "text": [
      "\n",
      "Epoch 37: val_loss did not improve from 0.16334\n",
      "Epoch 38/100\n"
     ]
    },
    {
     "data": {
      "application/vnd.jupyter.widget-view+json": {
       "model_id": "ab6ab806e45d424abc98d83f97acb5f1",
       "version_major": 2,
       "version_minor": 0
      },
      "text/plain": [
       "0/35                                                                                                          …"
      ]
     },
     "metadata": {},
     "output_type": "display_data"
    },
    {
     "name": "stdout",
     "output_type": "stream",
     "text": [
      "\n",
      "Epoch 38: val_loss did not improve from 0.16334\n",
      "Epoch 39/100\n"
     ]
    },
    {
     "data": {
      "application/vnd.jupyter.widget-view+json": {
       "model_id": "2c284206e29f4a4b94d871caaeae2163",
       "version_major": 2,
       "version_minor": 0
      },
      "text/plain": [
       "0/35                                                                                                          …"
      ]
     },
     "metadata": {},
     "output_type": "display_data"
    },
    {
     "name": "stdout",
     "output_type": "stream",
     "text": [
      "\n",
      "Epoch 39: val_loss improved from 0.16334 to 0.15957, saving model to checkpoints/cp-0039.ckpt\n",
      "Epoch 40/100\n"
     ]
    },
    {
     "data": {
      "application/vnd.jupyter.widget-view+json": {
       "model_id": "587a627e1dcf413499ee9e979c89a03d",
       "version_major": 2,
       "version_minor": 0
      },
      "text/plain": [
       "0/35                                                                                                          …"
      ]
     },
     "metadata": {},
     "output_type": "display_data"
    },
    {
     "name": "stdout",
     "output_type": "stream",
     "text": [
      "\n",
      "Epoch 40: val_loss improved from 0.15957 to 0.15275, saving model to checkpoints/cp-0040.ckpt\n",
      "Epoch 41/100\n"
     ]
    },
    {
     "data": {
      "application/vnd.jupyter.widget-view+json": {
       "model_id": "c5eac4d88d554156b0a7544d364f8836",
       "version_major": 2,
       "version_minor": 0
      },
      "text/plain": [
       "0/35                                                                                                          …"
      ]
     },
     "metadata": {},
     "output_type": "display_data"
    },
    {
     "name": "stdout",
     "output_type": "stream",
     "text": [
      "\n",
      "Epoch 41: val_loss did not improve from 0.15275\n",
      "Epoch 42/100\n"
     ]
    },
    {
     "data": {
      "application/vnd.jupyter.widget-view+json": {
       "model_id": "205f39e46f604f22bc404e65fdec7408",
       "version_major": 2,
       "version_minor": 0
      },
      "text/plain": [
       "0/35                                                                                                          …"
      ]
     },
     "metadata": {},
     "output_type": "display_data"
    },
    {
     "name": "stdout",
     "output_type": "stream",
     "text": [
      "\n",
      "Epoch 42: val_loss improved from 0.15275 to 0.15161, saving model to checkpoints/cp-0042.ckpt\n",
      "Epoch 43/100\n"
     ]
    },
    {
     "data": {
      "application/vnd.jupyter.widget-view+json": {
       "model_id": "8fd34c717598432497f09eeb8d06ca61",
       "version_major": 2,
       "version_minor": 0
      },
      "text/plain": [
       "0/35                                                                                                          …"
      ]
     },
     "metadata": {},
     "output_type": "display_data"
    },
    {
     "name": "stdout",
     "output_type": "stream",
     "text": [
      "\n",
      "Epoch 43: val_loss improved from 0.15161 to 0.14971, saving model to checkpoints/cp-0043.ckpt\n",
      "Epoch 44/100\n"
     ]
    },
    {
     "data": {
      "application/vnd.jupyter.widget-view+json": {
       "model_id": "df1cd8f943a741ab8e8ecab4c51d82b3",
       "version_major": 2,
       "version_minor": 0
      },
      "text/plain": [
       "0/35                                                                                                          …"
      ]
     },
     "metadata": {},
     "output_type": "display_data"
    },
    {
     "name": "stdout",
     "output_type": "stream",
     "text": [
      "\n",
      "Epoch 44: val_loss improved from 0.14971 to 0.14447, saving model to checkpoints/cp-0044.ckpt\n",
      "Epoch 45/100\n"
     ]
    },
    {
     "data": {
      "application/vnd.jupyter.widget-view+json": {
       "model_id": "bb0b376ae58f4fb6bed442148779a54a",
       "version_major": 2,
       "version_minor": 0
      },
      "text/plain": [
       "0/35                                                                                                          …"
      ]
     },
     "metadata": {},
     "output_type": "display_data"
    },
    {
     "name": "stdout",
     "output_type": "stream",
     "text": [
      "\n",
      "Epoch 45: val_loss did not improve from 0.14447\n",
      "Epoch 46/100\n"
     ]
    },
    {
     "data": {
      "application/vnd.jupyter.widget-view+json": {
       "model_id": "d0e8127272e34d3e8bc7874c1bcf3a1d",
       "version_major": 2,
       "version_minor": 0
      },
      "text/plain": [
       "0/35                                                                                                          …"
      ]
     },
     "metadata": {},
     "output_type": "display_data"
    },
    {
     "name": "stdout",
     "output_type": "stream",
     "text": [
      "\n",
      "Epoch 46: val_loss did not improve from 0.14447\n",
      "Epoch 47/100\n"
     ]
    },
    {
     "data": {
      "application/vnd.jupyter.widget-view+json": {
       "model_id": "ad9689f7eb2b419da8f9f44f505e3a63",
       "version_major": 2,
       "version_minor": 0
      },
      "text/plain": [
       "0/35                                                                                                          …"
      ]
     },
     "metadata": {},
     "output_type": "display_data"
    },
    {
     "name": "stdout",
     "output_type": "stream",
     "text": [
      "\n",
      "Epoch 47: val_loss improved from 0.14447 to 0.14067, saving model to checkpoints/cp-0047.ckpt\n",
      "Epoch 48/100\n"
     ]
    },
    {
     "data": {
      "application/vnd.jupyter.widget-view+json": {
       "model_id": "99bda62492e74f0e8304eb3fd0377518",
       "version_major": 2,
       "version_minor": 0
      },
      "text/plain": [
       "0/35                                                                                                          …"
      ]
     },
     "metadata": {},
     "output_type": "display_data"
    },
    {
     "name": "stdout",
     "output_type": "stream",
     "text": [
      "\n",
      "Epoch 48: val_loss did not improve from 0.14067\n",
      "Epoch 49/100\n"
     ]
    },
    {
     "data": {
      "application/vnd.jupyter.widget-view+json": {
       "model_id": "a89f12a79c5f4e44b7d7fd66ee822578",
       "version_major": 2,
       "version_minor": 0
      },
      "text/plain": [
       "0/35                                                                                                          …"
      ]
     },
     "metadata": {},
     "output_type": "display_data"
    },
    {
     "name": "stdout",
     "output_type": "stream",
     "text": [
      "\n",
      "Epoch 49: val_loss did not improve from 0.14067\n",
      "Epoch 50/100\n"
     ]
    },
    {
     "data": {
      "application/vnd.jupyter.widget-view+json": {
       "model_id": "f5215098b31849a1941f6c4f2b26ec18",
       "version_major": 2,
       "version_minor": 0
      },
      "text/plain": [
       "0/35                                                                                                          …"
      ]
     },
     "metadata": {},
     "output_type": "display_data"
    },
    {
     "name": "stdout",
     "output_type": "stream",
     "text": [
      "\n",
      "Epoch 50: val_loss improved from 0.14067 to 0.13656, saving model to checkpoints/cp-0050.ckpt\n",
      "Epoch 51/100\n"
     ]
    },
    {
     "data": {
      "application/vnd.jupyter.widget-view+json": {
       "model_id": "0663f3057a17413cb116f1bf48a80bce",
       "version_major": 2,
       "version_minor": 0
      },
      "text/plain": [
       "0/35                                                                                                          …"
      ]
     },
     "metadata": {},
     "output_type": "display_data"
    },
    {
     "name": "stdout",
     "output_type": "stream",
     "text": [
      "\n",
      "Epoch 51: val_loss improved from 0.13656 to 0.13594, saving model to checkpoints/cp-0051.ckpt\n",
      "Epoch 52/100\n"
     ]
    },
    {
     "data": {
      "application/vnd.jupyter.widget-view+json": {
       "model_id": "a481d55c787d45eba51251344f3b466c",
       "version_major": 2,
       "version_minor": 0
      },
      "text/plain": [
       "0/35                                                                                                          …"
      ]
     },
     "metadata": {},
     "output_type": "display_data"
    },
    {
     "name": "stdout",
     "output_type": "stream",
     "text": [
      "\n",
      "Epoch 52: val_loss improved from 0.13594 to 0.13495, saving model to checkpoints/cp-0052.ckpt\n",
      "Epoch 53/100\n"
     ]
    },
    {
     "data": {
      "application/vnd.jupyter.widget-view+json": {
       "model_id": "bb8d9830b872462d96ea84d140c3ba79",
       "version_major": 2,
       "version_minor": 0
      },
      "text/plain": [
       "0/35                                                                                                          …"
      ]
     },
     "metadata": {},
     "output_type": "display_data"
    },
    {
     "name": "stdout",
     "output_type": "stream",
     "text": [
      "\n",
      "Epoch 53: val_loss improved from 0.13495 to 0.13450, saving model to checkpoints/cp-0053.ckpt\n",
      "Epoch 54/100\n"
     ]
    },
    {
     "data": {
      "application/vnd.jupyter.widget-view+json": {
       "model_id": "95d4970eeddc47af99413a5978429368",
       "version_major": 2,
       "version_minor": 0
      },
      "text/plain": [
       "0/35                                                                                                          …"
      ]
     },
     "metadata": {},
     "output_type": "display_data"
    },
    {
     "name": "stdout",
     "output_type": "stream",
     "text": [
      "\n",
      "Epoch 54: val_loss improved from 0.13450 to 0.13049, saving model to checkpoints/cp-0054.ckpt\n",
      "Epoch 55/100\n"
     ]
    },
    {
     "data": {
      "application/vnd.jupyter.widget-view+json": {
       "model_id": "08d96e06d66a42288ab03d47bf2ae932",
       "version_major": 2,
       "version_minor": 0
      },
      "text/plain": [
       "0/35                                                                                                          …"
      ]
     },
     "metadata": {},
     "output_type": "display_data"
    },
    {
     "name": "stdout",
     "output_type": "stream",
     "text": [
      "\n",
      "Epoch 55: val_loss did not improve from 0.13049\n",
      "Epoch 56/100\n"
     ]
    },
    {
     "data": {
      "application/vnd.jupyter.widget-view+json": {
       "model_id": "a8d221610b794a9f9e1f5ad67afd72d6",
       "version_major": 2,
       "version_minor": 0
      },
      "text/plain": [
       "0/35                                                                                                          …"
      ]
     },
     "metadata": {},
     "output_type": "display_data"
    },
    {
     "name": "stdout",
     "output_type": "stream",
     "text": [
      "\n",
      "Epoch 56: val_loss improved from 0.13049 to 0.12726, saving model to checkpoints/cp-0056.ckpt\n",
      "Epoch 57/100\n"
     ]
    },
    {
     "data": {
      "application/vnd.jupyter.widget-view+json": {
       "model_id": "a3c2081948b742a4820a35dfb2be8c7b",
       "version_major": 2,
       "version_minor": 0
      },
      "text/plain": [
       "0/35                                                                                                          …"
      ]
     },
     "metadata": {},
     "output_type": "display_data"
    },
    {
     "name": "stdout",
     "output_type": "stream",
     "text": [
      "\n",
      "Epoch 57: val_loss did not improve from 0.12726\n",
      "Epoch 58/100\n"
     ]
    },
    {
     "data": {
      "application/vnd.jupyter.widget-view+json": {
       "model_id": "8769636792494c308e51587afbde2ec6",
       "version_major": 2,
       "version_minor": 0
      },
      "text/plain": [
       "0/35                                                                                                          …"
      ]
     },
     "metadata": {},
     "output_type": "display_data"
    },
    {
     "name": "stdout",
     "output_type": "stream",
     "text": [
      "\n",
      "Epoch 58: val_loss did not improve from 0.12726\n",
      "Epoch 59/100\n"
     ]
    },
    {
     "data": {
      "application/vnd.jupyter.widget-view+json": {
       "model_id": "9aedce0c958a4c43ae39233e47bd4d64",
       "version_major": 2,
       "version_minor": 0
      },
      "text/plain": [
       "0/35                                                                                                          …"
      ]
     },
     "metadata": {},
     "output_type": "display_data"
    },
    {
     "name": "stdout",
     "output_type": "stream",
     "text": [
      "\n",
      "Epoch 59: val_loss improved from 0.12726 to 0.12457, saving model to checkpoints/cp-0059.ckpt\n",
      "Epoch 60/100\n"
     ]
    },
    {
     "data": {
      "application/vnd.jupyter.widget-view+json": {
       "model_id": "723dfd5c29224d74a44770fce9512923",
       "version_major": 2,
       "version_minor": 0
      },
      "text/plain": [
       "0/35                                                                                                          …"
      ]
     },
     "metadata": {},
     "output_type": "display_data"
    },
    {
     "name": "stdout",
     "output_type": "stream",
     "text": [
      "\n",
      "Epoch 60: val_loss did not improve from 0.12457\n",
      "Epoch 61/100\n"
     ]
    },
    {
     "data": {
      "application/vnd.jupyter.widget-view+json": {
       "model_id": "bf135274e59b4330b6a6236dbd53dcec",
       "version_major": 2,
       "version_minor": 0
      },
      "text/plain": [
       "0/35                                                                                                          …"
      ]
     },
     "metadata": {},
     "output_type": "display_data"
    },
    {
     "name": "stdout",
     "output_type": "stream",
     "text": [
      "\n",
      "Epoch 61: val_loss improved from 0.12457 to 0.12397, saving model to checkpoints/cp-0061.ckpt\n",
      "Epoch 62/100\n"
     ]
    },
    {
     "data": {
      "application/vnd.jupyter.widget-view+json": {
       "model_id": "d2a172c6339346728acf2249630095af",
       "version_major": 2,
       "version_minor": 0
      },
      "text/plain": [
       "0/35                                                                                                          …"
      ]
     },
     "metadata": {},
     "output_type": "display_data"
    },
    {
     "name": "stdout",
     "output_type": "stream",
     "text": [
      "\n",
      "Epoch 62: val_loss improved from 0.12397 to 0.12283, saving model to checkpoints/cp-0062.ckpt\n",
      "Epoch 63/100\n"
     ]
    },
    {
     "data": {
      "application/vnd.jupyter.widget-view+json": {
       "model_id": "752934daee1d4751813cc357e6121ed7",
       "version_major": 2,
       "version_minor": 0
      },
      "text/plain": [
       "0/35                                                                                                          …"
      ]
     },
     "metadata": {},
     "output_type": "display_data"
    },
    {
     "name": "stdout",
     "output_type": "stream",
     "text": [
      "\n",
      "Epoch 63: val_loss did not improve from 0.12283\n",
      "Epoch 64/100\n"
     ]
    },
    {
     "data": {
      "application/vnd.jupyter.widget-view+json": {
       "model_id": "10ef316699c9430d8f0d30d70f4b7659",
       "version_major": 2,
       "version_minor": 0
      },
      "text/plain": [
       "0/35                                                                                                          …"
      ]
     },
     "metadata": {},
     "output_type": "display_data"
    },
    {
     "name": "stdout",
     "output_type": "stream",
     "text": [
      "\n",
      "Epoch 64: val_loss did not improve from 0.12283\n",
      "Epoch 65/100\n"
     ]
    },
    {
     "data": {
      "application/vnd.jupyter.widget-view+json": {
       "model_id": "09cfd178fadf43b3a1c4cf9afcfa2e7f",
       "version_major": 2,
       "version_minor": 0
      },
      "text/plain": [
       "0/35                                                                                                          …"
      ]
     },
     "metadata": {},
     "output_type": "display_data"
    },
    {
     "name": "stdout",
     "output_type": "stream",
     "text": [
      "\n",
      "Epoch 65: val_loss improved from 0.12283 to 0.11804, saving model to checkpoints/cp-0065.ckpt\n",
      "Epoch 66/100\n"
     ]
    },
    {
     "data": {
      "application/vnd.jupyter.widget-view+json": {
       "model_id": "9253c9d2e9774e909ee042f192adb1aa",
       "version_major": 2,
       "version_minor": 0
      },
      "text/plain": [
       "0/35                                                                                                          …"
      ]
     },
     "metadata": {},
     "output_type": "display_data"
    },
    {
     "name": "stdout",
     "output_type": "stream",
     "text": [
      "\n",
      "Epoch 66: val_loss did not improve from 0.11804\n",
      "Epoch 67/100\n"
     ]
    },
    {
     "data": {
      "application/vnd.jupyter.widget-view+json": {
       "model_id": "07fff7579c8b4de1ab96146f84709f12",
       "version_major": 2,
       "version_minor": 0
      },
      "text/plain": [
       "0/35                                                                                                          …"
      ]
     },
     "metadata": {},
     "output_type": "display_data"
    },
    {
     "name": "stdout",
     "output_type": "stream",
     "text": [
      "\n",
      "Epoch 67: val_loss did not improve from 0.11804\n",
      "Epoch 68/100\n"
     ]
    },
    {
     "data": {
      "application/vnd.jupyter.widget-view+json": {
       "model_id": "48d033977f4c44ce8fd691a8524334e6",
       "version_major": 2,
       "version_minor": 0
      },
      "text/plain": [
       "0/35                                                                                                          …"
      ]
     },
     "metadata": {},
     "output_type": "display_data"
    },
    {
     "name": "stdout",
     "output_type": "stream",
     "text": [
      "\n",
      "Epoch 68: val_loss improved from 0.11804 to 0.11700, saving model to checkpoints/cp-0068.ckpt\n",
      "Epoch 69/100\n"
     ]
    },
    {
     "data": {
      "application/vnd.jupyter.widget-view+json": {
       "model_id": "8e75f4fd1de84daaba8921876b0c6775",
       "version_major": 2,
       "version_minor": 0
      },
      "text/plain": [
       "0/35                                                                                                          …"
      ]
     },
     "metadata": {},
     "output_type": "display_data"
    },
    {
     "name": "stdout",
     "output_type": "stream",
     "text": [
      "\n",
      "Epoch 69: val_loss did not improve from 0.11700\n",
      "Epoch 70/100\n"
     ]
    },
    {
     "data": {
      "application/vnd.jupyter.widget-view+json": {
       "model_id": "707d3f623368447390e9f34d88f5f7e3",
       "version_major": 2,
       "version_minor": 0
      },
      "text/plain": [
       "0/35                                                                                                          …"
      ]
     },
     "metadata": {},
     "output_type": "display_data"
    },
    {
     "name": "stdout",
     "output_type": "stream",
     "text": [
      "\n",
      "Epoch 70: val_loss did not improve from 0.11700\n",
      "Epoch 71/100\n"
     ]
    },
    {
     "data": {
      "application/vnd.jupyter.widget-view+json": {
       "model_id": "f525b786df9a4fe297e256934a97be92",
       "version_major": 2,
       "version_minor": 0
      },
      "text/plain": [
       "0/35                                                                                                          …"
      ]
     },
     "metadata": {},
     "output_type": "display_data"
    },
    {
     "name": "stdout",
     "output_type": "stream",
     "text": [
      "\n",
      "Epoch 71: val_loss improved from 0.11700 to 0.11345, saving model to checkpoints/cp-0071.ckpt\n",
      "Epoch 72/100\n"
     ]
    },
    {
     "data": {
      "application/vnd.jupyter.widget-view+json": {
       "model_id": "08d399c395914fb5bd70774792ab9afe",
       "version_major": 2,
       "version_minor": 0
      },
      "text/plain": [
       "0/35                                                                                                          …"
      ]
     },
     "metadata": {},
     "output_type": "display_data"
    },
    {
     "name": "stdout",
     "output_type": "stream",
     "text": [
      "\n",
      "Epoch 72: val_loss improved from 0.11345 to 0.11232, saving model to checkpoints/cp-0072.ckpt\n",
      "Epoch 73/100\n"
     ]
    },
    {
     "data": {
      "application/vnd.jupyter.widget-view+json": {
       "model_id": "b70e9a6b42f148fc9eed44fa6547a0d9",
       "version_major": 2,
       "version_minor": 0
      },
      "text/plain": [
       "0/35                                                                                                          …"
      ]
     },
     "metadata": {},
     "output_type": "display_data"
    },
    {
     "name": "stdout",
     "output_type": "stream",
     "text": [
      "\n",
      "Epoch 73: val_loss improved from 0.11232 to 0.11103, saving model to checkpoints/cp-0073.ckpt\n",
      "Epoch 74/100\n"
     ]
    },
    {
     "data": {
      "application/vnd.jupyter.widget-view+json": {
       "model_id": "81ab3881c4624eb188e0c94575303e78",
       "version_major": 2,
       "version_minor": 0
      },
      "text/plain": [
       "0/35                                                                                                          …"
      ]
     },
     "metadata": {},
     "output_type": "display_data"
    },
    {
     "name": "stdout",
     "output_type": "stream",
     "text": [
      "\n",
      "Epoch 74: val_loss did not improve from 0.11103\n",
      "Epoch 75/100\n"
     ]
    },
    {
     "data": {
      "application/vnd.jupyter.widget-view+json": {
       "model_id": "0f4f4bcc85524bceb09e75cc73b88602",
       "version_major": 2,
       "version_minor": 0
      },
      "text/plain": [
       "0/35                                                                                                          …"
      ]
     },
     "metadata": {},
     "output_type": "display_data"
    },
    {
     "name": "stdout",
     "output_type": "stream",
     "text": [
      "\n",
      "Epoch 75: val_loss did not improve from 0.11103\n",
      "Epoch 76/100\n"
     ]
    },
    {
     "data": {
      "application/vnd.jupyter.widget-view+json": {
       "model_id": "192b2232a380484ebff0ac38faa3b0f2",
       "version_major": 2,
       "version_minor": 0
      },
      "text/plain": [
       "0/35                                                                                                          …"
      ]
     },
     "metadata": {},
     "output_type": "display_data"
    },
    {
     "name": "stdout",
     "output_type": "stream",
     "text": [
      "\n",
      "Epoch 76: val_loss improved from 0.11103 to 0.10798, saving model to checkpoints/cp-0076.ckpt\n",
      "Epoch 77/100\n"
     ]
    },
    {
     "data": {
      "application/vnd.jupyter.widget-view+json": {
       "model_id": "e4a1038b04cc4e9980ff6a52dd2e436c",
       "version_major": 2,
       "version_minor": 0
      },
      "text/plain": [
       "0/35                                                                                                          …"
      ]
     },
     "metadata": {},
     "output_type": "display_data"
    },
    {
     "name": "stdout",
     "output_type": "stream",
     "text": [
      "\n",
      "Epoch 77: val_loss improved from 0.10798 to 0.10501, saving model to checkpoints/cp-0077.ckpt\n",
      "Epoch 78/100\n"
     ]
    },
    {
     "data": {
      "application/vnd.jupyter.widget-view+json": {
       "model_id": "e0454869eb01476b875ccc5d095469c6",
       "version_major": 2,
       "version_minor": 0
      },
      "text/plain": [
       "0/35                                                                                                          …"
      ]
     },
     "metadata": {},
     "output_type": "display_data"
    },
    {
     "name": "stdout",
     "output_type": "stream",
     "text": [
      "\n",
      "Epoch 78: val_loss did not improve from 0.10501\n",
      "Epoch 79/100\n"
     ]
    },
    {
     "data": {
      "application/vnd.jupyter.widget-view+json": {
       "model_id": "86029a9945264be39ffff02f7d3eb971",
       "version_major": 2,
       "version_minor": 0
      },
      "text/plain": [
       "0/35                                                                                                          …"
      ]
     },
     "metadata": {},
     "output_type": "display_data"
    },
    {
     "name": "stdout",
     "output_type": "stream",
     "text": [
      "\n",
      "Epoch 79: val_loss did not improve from 0.10501\n",
      "Epoch 80/100\n"
     ]
    },
    {
     "data": {
      "application/vnd.jupyter.widget-view+json": {
       "model_id": "596a46c9fe5645618698224719bba583",
       "version_major": 2,
       "version_minor": 0
      },
      "text/plain": [
       "0/35                                                                                                          …"
      ]
     },
     "metadata": {},
     "output_type": "display_data"
    },
    {
     "name": "stdout",
     "output_type": "stream",
     "text": [
      "\n",
      "Epoch 80: val_loss did not improve from 0.10501\n",
      "Epoch 81/100\n"
     ]
    },
    {
     "data": {
      "application/vnd.jupyter.widget-view+json": {
       "model_id": "f5df42185da94fd9be40b71f95ece9e3",
       "version_major": 2,
       "version_minor": 0
      },
      "text/plain": [
       "0/35                                                                                                          …"
      ]
     },
     "metadata": {},
     "output_type": "display_data"
    },
    {
     "name": "stdout",
     "output_type": "stream",
     "text": [
      "\n",
      "Epoch 81: val_loss did not improve from 0.10501\n",
      "Epoch 82/100\n"
     ]
    },
    {
     "data": {
      "application/vnd.jupyter.widget-view+json": {
       "model_id": "45625dc9e05e4ea480e36874ca7645c3",
       "version_major": 2,
       "version_minor": 0
      },
      "text/plain": [
       "0/35                                                                                                          …"
      ]
     },
     "metadata": {},
     "output_type": "display_data"
    },
    {
     "name": "stdout",
     "output_type": "stream",
     "text": [
      "\n",
      "Epoch 82: val_loss improved from 0.10501 to 0.10440, saving model to checkpoints/cp-0082.ckpt\n",
      "Epoch 83/100\n"
     ]
    },
    {
     "data": {
      "application/vnd.jupyter.widget-view+json": {
       "model_id": "ac40511744db4faeb8074bc10758be1e",
       "version_major": 2,
       "version_minor": 0
      },
      "text/plain": [
       "0/35                                                                                                          …"
      ]
     },
     "metadata": {},
     "output_type": "display_data"
    },
    {
     "name": "stdout",
     "output_type": "stream",
     "text": [
      "\n",
      "Epoch 83: val_loss did not improve from 0.10440\n",
      "Epoch 84/100\n"
     ]
    },
    {
     "data": {
      "application/vnd.jupyter.widget-view+json": {
       "model_id": "a9459d08abba476992aa4e1b4888b8c3",
       "version_major": 2,
       "version_minor": 0
      },
      "text/plain": [
       "0/35                                                                                                          …"
      ]
     },
     "metadata": {},
     "output_type": "display_data"
    },
    {
     "name": "stdout",
     "output_type": "stream",
     "text": [
      "\n",
      "Epoch 84: val_loss improved from 0.10440 to 0.10408, saving model to checkpoints/cp-0084.ckpt\n",
      "Epoch 85/100\n"
     ]
    },
    {
     "data": {
      "application/vnd.jupyter.widget-view+json": {
       "model_id": "9ae3b4bd32584e8182b3f75f036a9b00",
       "version_major": 2,
       "version_minor": 0
      },
      "text/plain": [
       "0/35                                                                                                          …"
      ]
     },
     "metadata": {},
     "output_type": "display_data"
    },
    {
     "name": "stdout",
     "output_type": "stream",
     "text": [
      "\n",
      "Epoch 85: val_loss improved from 0.10408 to 0.10255, saving model to checkpoints/cp-0085.ckpt\n",
      "Epoch 86/100\n"
     ]
    },
    {
     "data": {
      "application/vnd.jupyter.widget-view+json": {
       "model_id": "3d92bb84a877447d940234c3695f7fe6",
       "version_major": 2,
       "version_minor": 0
      },
      "text/plain": [
       "0/35                                                                                                          …"
      ]
     },
     "metadata": {},
     "output_type": "display_data"
    },
    {
     "name": "stdout",
     "output_type": "stream",
     "text": [
      "\n",
      "Epoch 86: val_loss did not improve from 0.10255\n",
      "Epoch 87/100\n"
     ]
    },
    {
     "data": {
      "application/vnd.jupyter.widget-view+json": {
       "model_id": "d4972f3df9c84e6b927c9ed601084713",
       "version_major": 2,
       "version_minor": 0
      },
      "text/plain": [
       "0/35                                                                                                          …"
      ]
     },
     "metadata": {},
     "output_type": "display_data"
    },
    {
     "name": "stdout",
     "output_type": "stream",
     "text": [
      "\n",
      "Epoch 87: val_loss improved from 0.10255 to 0.10060, saving model to checkpoints/cp-0087.ckpt\n",
      "Epoch 88/100\n"
     ]
    },
    {
     "data": {
      "application/vnd.jupyter.widget-view+json": {
       "model_id": "b9090ae98d554c549d4e999fcd41f3d6",
       "version_major": 2,
       "version_minor": 0
      },
      "text/plain": [
       "0/35                                                                                                          …"
      ]
     },
     "metadata": {},
     "output_type": "display_data"
    },
    {
     "name": "stdout",
     "output_type": "stream",
     "text": [
      "\n",
      "Epoch 88: val_loss improved from 0.10060 to 0.09868, saving model to checkpoints/cp-0088.ckpt\n",
      "Epoch 89/100\n"
     ]
    },
    {
     "data": {
      "application/vnd.jupyter.widget-view+json": {
       "model_id": "681458a1af674affb38d7bc6a4b03fae",
       "version_major": 2,
       "version_minor": 0
      },
      "text/plain": [
       "0/35                                                                                                          …"
      ]
     },
     "metadata": {},
     "output_type": "display_data"
    },
    {
     "name": "stdout",
     "output_type": "stream",
     "text": [
      "\n",
      "Epoch 89: val_loss did not improve from 0.09868\n",
      "Epoch 90/100\n"
     ]
    },
    {
     "data": {
      "application/vnd.jupyter.widget-view+json": {
       "model_id": "a83afa8ccf1a4e3990ebbb4641cf10ec",
       "version_major": 2,
       "version_minor": 0
      },
      "text/plain": [
       "0/35                                                                                                          …"
      ]
     },
     "metadata": {},
     "output_type": "display_data"
    },
    {
     "name": "stdout",
     "output_type": "stream",
     "text": [
      "\n",
      "Epoch 90: val_loss improved from 0.09868 to 0.09850, saving model to checkpoints/cp-0090.ckpt\n",
      "Epoch 91/100\n"
     ]
    },
    {
     "data": {
      "application/vnd.jupyter.widget-view+json": {
       "model_id": "799d6c4d2a0846648281bddf88c676be",
       "version_major": 2,
       "version_minor": 0
      },
      "text/plain": [
       "0/35                                                                                                          …"
      ]
     },
     "metadata": {},
     "output_type": "display_data"
    },
    {
     "name": "stdout",
     "output_type": "stream",
     "text": [
      "\n",
      "Epoch 91: val_loss improved from 0.09850 to 0.09699, saving model to checkpoints/cp-0091.ckpt\n",
      "Epoch 92/100\n"
     ]
    },
    {
     "data": {
      "application/vnd.jupyter.widget-view+json": {
       "model_id": "7111f84e132a4dc5b5f2b1d212248d32",
       "version_major": 2,
       "version_minor": 0
      },
      "text/plain": [
       "0/35                                                                                                          …"
      ]
     },
     "metadata": {},
     "output_type": "display_data"
    },
    {
     "name": "stdout",
     "output_type": "stream",
     "text": [
      "\n",
      "Epoch 92: val_loss did not improve from 0.09699\n",
      "Epoch 93/100\n"
     ]
    },
    {
     "data": {
      "application/vnd.jupyter.widget-view+json": {
       "model_id": "ae4b7d7882e341a88ade3a2ed880363d",
       "version_major": 2,
       "version_minor": 0
      },
      "text/plain": [
       "0/35                                                                                                          …"
      ]
     },
     "metadata": {},
     "output_type": "display_data"
    },
    {
     "name": "stdout",
     "output_type": "stream",
     "text": [
      "\n",
      "Epoch 93: val_loss improved from 0.09699 to 0.09610, saving model to checkpoints/cp-0093.ckpt\n",
      "Epoch 94/100\n"
     ]
    },
    {
     "data": {
      "application/vnd.jupyter.widget-view+json": {
       "model_id": "d2aa33f52cb24e33a1112eaaf78aad5e",
       "version_major": 2,
       "version_minor": 0
      },
      "text/plain": [
       "0/35                                                                                                          …"
      ]
     },
     "metadata": {},
     "output_type": "display_data"
    },
    {
     "name": "stdout",
     "output_type": "stream",
     "text": [
      "\n",
      "Epoch 94: val_loss did not improve from 0.09610\n",
      "Epoch 95/100\n"
     ]
    },
    {
     "data": {
      "application/vnd.jupyter.widget-view+json": {
       "model_id": "8bcbb82f1c53491e857736218b6a4e0a",
       "version_major": 2,
       "version_minor": 0
      },
      "text/plain": [
       "0/35                                                                                                          …"
      ]
     },
     "metadata": {},
     "output_type": "display_data"
    },
    {
     "name": "stdout",
     "output_type": "stream",
     "text": [
      "\n",
      "Epoch 95: val_loss did not improve from 0.09610\n",
      "Epoch 96/100\n"
     ]
    },
    {
     "data": {
      "application/vnd.jupyter.widget-view+json": {
       "model_id": "d6dba4c05b6846048b8de40e911eef49",
       "version_major": 2,
       "version_minor": 0
      },
      "text/plain": [
       "0/35                                                                                                          …"
      ]
     },
     "metadata": {},
     "output_type": "display_data"
    },
    {
     "name": "stdout",
     "output_type": "stream",
     "text": [
      "\n",
      "Epoch 96: val_loss improved from 0.09610 to 0.09458, saving model to checkpoints/cp-0096.ckpt\n",
      "Epoch 97/100\n"
     ]
    },
    {
     "data": {
      "application/vnd.jupyter.widget-view+json": {
       "model_id": "47510c2401334727ab44082ebd886b2e",
       "version_major": 2,
       "version_minor": 0
      },
      "text/plain": [
       "0/35                                                                                                          …"
      ]
     },
     "metadata": {},
     "output_type": "display_data"
    },
    {
     "name": "stdout",
     "output_type": "stream",
     "text": [
      "\n",
      "Epoch 97: val_loss improved from 0.09458 to 0.09351, saving model to checkpoints/cp-0097.ckpt\n",
      "Epoch 98/100\n"
     ]
    },
    {
     "data": {
      "application/vnd.jupyter.widget-view+json": {
       "model_id": "e65fb14c341d4be9b5b95706997a7fcc",
       "version_major": 2,
       "version_minor": 0
      },
      "text/plain": [
       "0/35                                                                                                          …"
      ]
     },
     "metadata": {},
     "output_type": "display_data"
    },
    {
     "name": "stdout",
     "output_type": "stream",
     "text": [
      "\n",
      "Epoch 98: val_loss did not improve from 0.09351\n",
      "Epoch 99/100\n"
     ]
    },
    {
     "data": {
      "application/vnd.jupyter.widget-view+json": {
       "model_id": "d7c92630226e4cb690d382a94faf18b6",
       "version_major": 2,
       "version_minor": 0
      },
      "text/plain": [
       "0/35                                                                                                          …"
      ]
     },
     "metadata": {},
     "output_type": "display_data"
    },
    {
     "name": "stdout",
     "output_type": "stream",
     "text": [
      "\n",
      "Epoch 99: val_loss did not improve from 0.09351\n",
      "Epoch 100/100\n"
     ]
    },
    {
     "data": {
      "application/vnd.jupyter.widget-view+json": {
       "model_id": "5f76dd745e5040faaf1ee7b6bffa431a",
       "version_major": 2,
       "version_minor": 0
      },
      "text/plain": [
       "0/35                                                                                                          …"
      ]
     },
     "metadata": {},
     "output_type": "display_data"
    },
    {
     "name": "stdout",
     "output_type": "stream",
     "text": [
      "\n",
      "Epoch 100: val_loss did not improve from 0.09351\n"
     ]
    }
   ],
   "source": [
    "class_0_weight = (1 / healthy_count) * (image_count / 2.0)\n",
    "class_1_weight = (1 / wssv_count) * (image_count / 2.0)\n",
    "class_weight = {0: class_0_weight, 1: class_1_weight}\n",
    "\n",
    "callbacks = [\n",
    "    tf.keras.callbacks.EarlyStopping(patience=CONFIG[\"es_patience\"]),\n",
    "    tf.keras.callbacks.ModelCheckpoint(\n",
    "        filepath=\"checkpoints/cp-{epoch:04d}.ckpt\",\n",
    "        save_weights_only=True,\n",
    "        monitor=\"val_loss\",\n",
    "        mode=\"min\",\n",
    "        verbose=1,\n",
    "        save_best_only=True,\n",
    "    ),\n",
    "    tfa.callbacks.TQDMProgressBar()\n",
    "]\n",
    "\n",
    "model = create_model()\n",
    "\n",
    "history = model.fit(\n",
    "    train_dataset,\n",
    "    epochs=CONFIG[\"epochs\"],\n",
    "    validation_data=validation_dataset,\n",
    "    class_weight=class_weight,\n",
    "    callbacks=callbacks,\n",
    "    verbose=0\n",
    ")"
   ]
  },
  {
   "cell_type": "code",
   "execution_count": 47,
   "metadata": {
    "colab": {
     "base_uri": "https://localhost:8080/",
     "height": 264
    },
    "id": "r-aEGjYd2BZU",
    "outputId": "70eae248-0ec4-4ef0-d283-cda40fedb8c8"
   },
   "outputs": [
    {
     "data": {
      "image/png": "[encoded data removed]",
      "text/plain": [
       "<Figure size 3000x500 with 5 Axes>"
      ]
     },
     "metadata": {},
     "output_type": "display_data"
    }
   ],
   "source": [
    "plt.figure(figsize=(30, 5), dpi=100)\n",
    "\n",
    "plt.subplot(1, 5, 1)\n",
    "plt.plot(history.history[\"loss\"], label=\"Training Loss\")\n",
    "plt.plot(history.history[\"val_loss\"], label=\"Validation Loss\")\n",
    "plt.legend(loc=\"upper right\")\n",
    "plt.ylabel(\"Cross Entropy\")\n",
    "plt.ylim([0, 1.1])\n",
    "plt.xlim([0, history.epoch[-1]])\n",
    "plt.title(\"Training and Validation Loss\")\n",
    "plt.xlabel(\"Epoch\")\n",
    "\n",
    "plt.subplot(1, 5, 2)\n",
    "plt.plot(history.history[\"f1_score\"], label=\"Training F1 Score\")\n",
    "plt.plot(history.history[\"val_f1_score\"], label=\"Validation F1 Score\")\n",
    "plt.legend(loc=\"lower right\")\n",
    "plt.ylabel(\"F1 Score\")\n",
    "plt.ylim([0, 1.1])\n",
    "plt.xlim([0, history.epoch[-1]])\n",
    "plt.title(\"F1 Score\")\n",
    "plt.xlabel(\"Epoch\")\n",
    "\n",
    "plt.subplot(1, 5, 3)\n",
    "plt.plot(history.history[\"precision\"], label=\"Training Precision\")\n",
    "plt.plot(history.history[\"val_precision\"], label=\"Validation Precision\")\n",
    "plt.legend(loc=\"lower right\")\n",
    "plt.ylabel(\"Precision\")\n",
    "plt.ylim([0, 1.1])\n",
    "plt.xlim([0, history.epoch[-1]])\n",
    "plt.xlabel(\"Epoch\")\n",
    "plt.title(\"Precision\")\n",
    "\n",
    "plt.subplot(1, 5, 4)\n",
    "plt.plot(history.history[\"recall\"], label=\"Training Recall\")\n",
    "plt.plot(history.history[\"val_recall\"], label=\"Validation Recall\")\n",
    "plt.legend(loc=\"lower right\")\n",
    "plt.ylabel(\"Recall\")\n",
    "plt.ylim([0, 1.1])\n",
    "plt.xlim([0, history.epoch[-1]])\n",
    "plt.title(\"Recall\")\n",
    "plt.xlabel(\"Epoch\")\n",
    "\n",
    "false_neg = history.history[\"false_negatives\"]\n",
    "val_false_neg = history.history[\"val_false_negatives\"]\n",
    "\n",
    "fnr = np.array(history.history[\"false_negatives\"]) / (np.array(history.history[\"false_negatives\"]) + np.array(history.history[\"true_positives\"]))\n",
    "val_fnr = np.array(history.history[\"val_false_negatives\"]) / (np.array(history.history[\"val_false_negatives\"]) + np.array(history.history[\"val_true_positives\"]))\n",
    "plt.subplot(1, 5, 5)\n",
    "plt.plot(fnr, label=\"Training False Negative Rate\")\n",
    "plt.plot(val_fnr, label=\"Validation False Negative Rate\")\n",
    "plt.legend(loc=\"upper right\")\n",
    "plt.ylabel(\"False Negative Rate\")\n",
    "plt.ylim([0, 1.1])\n",
    "plt.xlim([0, history.epoch[-1]])\n",
    "plt.title(\"False Negative Rate\")\n",
    "plt.xlabel(\"Epoch\")\n",
    "\n",
    "plt.show()"
   ]
  },
  {
   "cell_type": "code",
   "execution_count": 48,
   "metadata": {},
   "outputs": [
    {
     "name": "stdout",
     "output_type": "stream",
     "text": [
      "Naive Model\n"
     ]
    },
    {
     "name": "stderr",
     "output_type": "stream",
     "text": [
      "2023-05-17 00:22:03.790395: I tensorflow/core/common_runtime/executor.cc:1197] [/device:CPU:0] (DEBUG INFO) Executor start aborting (this does not indicate an error and you can ignore this message): INVALID_ARGUMENT: You must feed a value for placeholder tensor 'Placeholder/_4' with dtype int32 and shape [372]\n",
      "\t [[{{node Placeholder/_4}}]]\n",
      "2023-05-17 00:22:03.790653: I tensorflow/core/common_runtime/executor.cc:1197] [/device:CPU:0] (DEBUG INFO) Executor start aborting (this does not indicate an error and you can ignore this message): INVALID_ARGUMENT: You must feed a value for placeholder tensor 'Placeholder/_4' with dtype int32 and shape [372]\n",
      "\t [[{{node Placeholder/_4}}]]\n"
     ]
    },
    {
     "name": "stdout",
     "output_type": "stream",
     "text": [
      "Loss: 0.4751\n",
      "Precision: 0.6154\n",
      "Recall: 0.8\n",
      "F1-Score: 0.6667\n",
      "False Negative Rate: 0.2\n",
      "\n",
      "Best Model\n",
      "Loss: 0.0882\n",
      "Precision: 0.8636\n",
      "Recall: 0.95\n",
      "F1-Score: 0.95\n",
      "False Negative Rate: 0.05\n"
     ]
    }
   ],
   "source": [
    "base_path = \"checkpoints_training/cp-0001.ckpt\"\n",
    "\n",
    "checkpoint_dir = os.path.dirname(checkpoint_path)\n",
    "best_weights = tf.train.latest_checkpoint(checkpoint_dir)\n",
    "\n",
    "print(\"Naive Model\")\n",
    "model.load_weights(base_path)\n",
    "results = np.round(model.evaluate(test_dataset, verbose=0), 4)\n",
    "print(f\"Loss: {results[0]}\")\n",
    "print(f\"Precision: {results[1]}\")\n",
    "print(f\"Recall: {results[2]}\")\n",
    "print(f\"F1-Score: {results[3]}\")\n",
    "print(f\"False Negative Rate: {results[4] / (results[4] + results[5])}\")\n",
    "\n",
    "print(\"\\nBest Model\")\n",
    "model.load_weights(best_weights)\n",
    "results = np.round(model.evaluate(test_dataset, verbose=0), 4)\n",
    "print(f\"Loss: {results[0]}\")\n",
    "print(f\"Precision: {results[1]}\")\n",
    "print(f\"Recall: {results[2]}\")\n",
    "print(f\"F1-Score: {results[3]}\")\n",
    "print(f\"False Negative Rate: {results[4] / (results[4] + results[5])}\")"
   ]
  }
 ],
 "metadata": {
  "accelerator": "GPU",
  "colab": {
   "gpuType": "T4",
   "provenance": []
  },
  "gpuClass": "standard",
  "kernelspec": {
   "display_name": "Python 3 (ipykernel)",
   "language": "python",
   "name": "python3"
  },
  "language_info": {
   "codemirror_mode": {
    "name": "ipython",
    "version": 3
   },
   "file_extension": ".py",
   "mimetype": "text/x-python",
   "name": "python",
   "nbconvert_exporter": "python",
   "pygments_lexer": "ipython3",
   "version": "3.9.16"
  },
  "widgets": {
   "application/vnd.jupyter.widget-state+json": {
    "19fbf49384084b1d8658836d5ad040d8": {
     "model_module": "@jupyter-widgets/controls",
     "model_module_version": "1.5.0",
     "model_name": "FloatProgressModel",
     "state": {
      "_dom_classes": [],
      "_model_module": "@jupyter-widgets/controls",
      "_model_module_version": "1.5.0",
      "_model_name": "FloatProgressModel",
      "_view_count": null,
      "_view_module": "@jupyter-widgets/controls",
      "_view_module_version": "1.5.0",
      "_view_name": "ProgressView",
      "bar_style": "",
      "description": "",
      "description_tooltip": null,
      "layout": "IPY_MODEL_aeced38fc04346b19133dff73ba90fe6",
      "max": 1,
      "min": 0,
      "orientation": "horizontal",
      "style": "IPY_MODEL_9bcd609a33824c55886033a8e7eb40c6",
      "value": 1
     }
    },
    "5e2e005a1f1b4db8bd4f860340ef9449": {
     "model_module": "@jupyter-widgets/base",
     "model_module_version": "1.2.0",
     "model_name": "LayoutModel",
     "state": {
      "_model_module": "@jupyter-widgets/base",
      "_model_module_version": "1.2.0",
      "_model_name": "LayoutModel",
      "_view_count": null,
      "_view_module": "@jupyter-widgets/base",
      "_view_module_version": "1.2.0",
      "_view_name": "LayoutView",
      "align_content": null,
      "align_items": null,
      "align_self": null,
      "border": null,
      "bottom": null,
      "display": null,
      "flex": null,
      "flex_flow": null,
      "grid_area": null,
      "grid_auto_columns": null,
      "grid_auto_flow": null,
      "grid_auto_rows": null,
      "grid_column": null,
      "grid_gap": null,
      "grid_row": null,
      "grid_template_areas": null,
      "grid_template_columns": null,
      "grid_template_rows": null,
      "height": null,
      "justify_content": null,
      "justify_items": null,
      "left": null,
      "margin": null,
      "max_height": null,
      "max_width": null,
      "min_height": null,
      "min_width": null,
      "object_fit": null,
      "object_position": null,
      "order": null,
      "overflow": null,
      "overflow_x": null,
      "overflow_y": null,
      "padding": null,
      "right": null,
      "top": null,
      "visibility": null,
      "width": null
     }
    },
    "7816f79250a04bfab901822eaaece71b": {
     "model_module": "@jupyter-widgets/controls",
     "model_module_version": "1.5.0",
     "model_name": "LabelModel",
     "state": {
      "_dom_classes": [],
      "_model_module": "@jupyter-widgets/controls",
      "_model_module_version": "1.5.0",
      "_model_name": "LabelModel",
      "_view_count": null,
      "_view_module": "@jupyter-widgets/controls",
      "_view_module_version": "1.5.0",
      "_view_name": "LabelView",
      "description": "",
      "description_tooltip": null,
      "layout": "IPY_MODEL_5e2e005a1f1b4db8bd4f860340ef9449",
      "placeholder": "​",
      "style": "IPY_MODEL_a6b081a8770345e58aa541a08897f207",
      "value": "0.002 MB of 0.002 MB uploaded (0.000 MB deduped)\r"
     }
    },
    "9bcd609a33824c55886033a8e7eb40c6": {
     "model_module": "@jupyter-widgets/controls",
     "model_module_version": "1.5.0",
     "model_name": "ProgressStyleModel",
     "state": {
      "_model_module": "@jupyter-widgets/controls",
      "_model_module_version": "1.5.0",
      "_model_name": "ProgressStyleModel",
      "_view_count": null,
      "_view_module": "@jupyter-widgets/base",
      "_view_module_version": "1.2.0",
      "_view_name": "StyleView",
      "bar_color": null,
      "description_width": ""
     }
    },
    "a6b081a8770345e58aa541a08897f207": {
     "model_module": "@jupyter-widgets/controls",
     "model_module_version": "1.5.0",
     "model_name": "DescriptionStyleModel",
     "state": {
      "_model_module": "@jupyter-widgets/controls",
      "_model_module_version": "1.5.0",
      "_model_name": "DescriptionStyleModel",
      "_view_count": null,
      "_view_module": "@jupyter-widgets/base",
      "_view_module_version": "1.2.0",
      "_view_name": "StyleView",
      "description_width": ""
     }
    },
    "aeced38fc04346b19133dff73ba90fe6": {
     "model_module": "@jupyter-widgets/base",
     "model_module_version": "1.2.0",
     "model_name": "LayoutModel",
     "state": {
      "_model_module": "@jupyter-widgets/base",
      "_model_module_version": "1.2.0",
      "_model_name": "LayoutModel",
      "_view_count": null,
      "_view_module": "@jupyter-widgets/base",
      "_view_module_version": "1.2.0",
      "_view_name": "LayoutView",
      "align_content": null,
      "align_items": null,
      "align_self": null,
      "border": null,
      "bottom": null,
      "display": null,
      "flex": null,
      "flex_flow": null,
      "grid_area": null,
      "grid_auto_columns": null,
      "grid_auto_flow": null,
      "grid_auto_rows": null,
      "grid_column": null,
      "grid_gap": null,
      "grid_row": null,
      "grid_template_areas": null,
      "grid_template_columns": null,
      "grid_template_rows": null,
      "height": null,
      "justify_content": null,
      "justify_items": null,
      "left": null,
      "margin": null,
      "max_height": null,
      "max_width": null,
      "min_height": null,
      "min_width": null,
      "object_fit": null,
      "object_position": null,
      "order": null,
      "overflow": null,
      "overflow_x": null,
      "overflow_y": null,
      "padding": null,
      "right": null,
      "top": null,
      "visibility": null,
      "width": null
     }
    },
    "cad101299d304c5987752beabb7b3522": {
     "model_module": "@jupyter-widgets/base",
     "model_module_version": "1.2.0",
     "model_name": "LayoutModel",
     "state": {
      "_model_module": "@jupyter-widgets/base",
      "_model_module_version": "1.2.0",
      "_model_name": "LayoutModel",
      "_view_count": null,
      "_view_module": "@jupyter-widgets/base",
      "_view_module_version": "1.2.0",
      "_view_name": "LayoutView",
      "align_content": null,
      "align_items": null,
      "align_self": null,
      "border": null,
      "bottom": null,
      "display": null,
      "flex": null,
      "flex_flow": null,
      "grid_area": null,
      "grid_auto_columns": null,
      "grid_auto_flow": null,
      "grid_auto_rows": null,
      "grid_column": null,
      "grid_gap": null,
      "grid_row": null,
      "grid_template_areas": null,
      "grid_template_columns": null,
      "grid_template_rows": null,
      "height": null,
      "justify_content": null,
      "justify_items": null,
      "left": null,
      "margin": null,
      "max_height": null,
      "max_width": null,
      "min_height": null,
      "min_width": null,
      "object_fit": null,
      "object_position": null,
      "order": null,
      "overflow": null,
      "overflow_x": null,
      "overflow_y": null,
      "padding": null,
      "right": null,
      "top": null,
      "visibility": null,
      "width": null
     }
    },
    "cbad0a06771d4ed59eaf8cde1980d4ea": {
     "model_module": "@jupyter-widgets/controls",
     "model_module_version": "1.5.0",
     "model_name": "VBoxModel",
     "state": {
      "_dom_classes": [],
      "_model_module": "@jupyter-widgets/controls",
      "_model_module_version": "1.5.0",
      "_model_name": "VBoxModel",
      "_view_count": null,
      "_view_module": "@jupyter-widgets/controls",
      "_view_module_version": "1.5.0",
      "_view_name": "VBoxView",
      "box_style": "",
      "children": [
       "IPY_MODEL_7816f79250a04bfab901822eaaece71b",
       "IPY_MODEL_19fbf49384084b1d8658836d5ad040d8"
      ],
      "layout": "IPY_MODEL_cad101299d304c5987752beabb7b3522"
     }
    }
   }
  }
 },
 "nbformat": 4,
 "nbformat_minor": 4
}
