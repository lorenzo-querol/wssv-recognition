{
 "cells": [
  {
   "cell_type": "code",
   "execution_count": null,
   "id": "fdc47ce9-1ff8-4375-bcf0-870bd3a1bcd7",
   "metadata": {},
   "outputs": [],
   "source": [
    "import matplotlib.pyplot as plt\n",
    "import tensorflow as tf\n",
    "import tensorflow_addons as tfa\n",
    "import pathlib\n",
    "import wandb\n",
    "from wandb.keras import WandbCallback\n",
    "import numpy as np\n",
    "import os\n",
    "import shutil\n",
    "import tf2onnx\n",
    "\n",
    "os.environ['TF_CPP_MIN_LOG_LEVEL'] = '3'"
   ]
  },
  {
   "cell_type": "code",
   "execution_count": null,
   "id": "da6c2279-ebb0-4a71-9b72-074c4d4bc692",
   "metadata": {},
   "outputs": [],
   "source": [
    "wandb.login()"
   ]
  },
  {
   "cell_type": "code",
   "execution_count": null,
   "id": "1176fe12-93f6-459b-9621-b5708881adbc",
   "metadata": {},
   "outputs": [],
   "source": [
    "DATA_DIR = pathlib.Path(\"augmented_dataset\")\n",
    "AUTOTUNE = tf.data.AUTOTUNE\n",
    "\n",
    "CONFIG = dict(\n",
    "    epochs=100,\n",
    "    learning_rate=1e-3,\n",
    "    batch_size=16,\n",
    "    img_shape=(224, 224),\n",
    "    input_shape=(224, 224, 3),\n",
    "    num_classes=2,\n",
    "    dropout_rate=0.2,\n",
    "    es_patience=20,\n",
    "    valid_split=0.4,\n",
    "    seed_value=42,\n",
    ")"
   ]
  },
  {
   "cell_type": "code",
   "execution_count": null,
   "id": "5b82b125-bb95-4639-a615-58f4eb89b197",
   "metadata": {},
   "outputs": [],
   "source": [
    "# from preprocessing import preprocess_image\n",
    "\n",
    "validation_batches = tf.data.experimental.cardinality(valid_set)\n",
    "validation_dataset = valid_set.skip(validation_batches // 5)\n",
    "test_dataset = valid_set.take(validation_batches // 5)\n",
    "\n",
    "'''\n",
    "Prefetch for faster loading\n",
    "'''\n",
    "train_dataset = train_set.prefetch(buffer_size=AUTOTUNE)\n",
    "validation_dataset = validation_dataset.prefetch(buffer_size=AUTOTUNE)\n",
    "test_dataset = test_dataset.prefetch(buffer_size=AUTOTUNE)\n",
    "\n",
    "'''\n",
    "Get number of batches per split\n",
    "'''\n",
    "num_training_batches = tf.data.experimental.cardinality(train_dataset)\n",
    "num_validation_batches = tf.data.experimental.cardinality(validation_dataset)\n",
    "num_test_batches = tf.data.experimental.cardinality(test_dataset)\n",
    "\n",
    "print(f\"\\nNumber of training batches: {num_training_batches}\")\n",
    "print(f\"Number of validation batches: {num_validation_batches}\")\n",
    "print(f\"Number of test batches: {num_test_batches}\")"
   ]
  },
  {
   "cell_type": "code",
   "execution_count": null,
   "id": "ed6ebc00-b2c8-4d08-af51-67fde653e274",
   "metadata": {},
   "outputs": [],
   "source": [
    "def create_model():\n",
    "    metrics = [\n",
    "        tf.keras.metrics.Precision(name='precision'),\n",
    "        tf.keras.metrics.Recall(name='recall'),\n",
    "        tfa.metrics.F1Score(num_classes=2, average=\"weighted\", name=\"f1_score\", threshold=0.5),\n",
    "        tf.keras.metrics.FalseNegatives(name='false_negatives'),\n",
    "        tf.keras.metrics.TruePositives(name='true_positives')\n",
    "    ]\n",
    "    \n",
    "    base_model = tf.keras.applications.MobileNetV3Small(input_shape=CONFIG[\"input_shape\"], include_top=False)\n",
    "    base_model.trainable = False\n",
    "    \n",
    "    inputs = tf.keras.Input(shape=CONFIG[\"input_shape\"])\n",
    "    x = base_model(inputs, training=False)\n",
    "    x = tf.keras.layers.GlobalAveragePooling2D()(x)\n",
    "    x = tf.keras.layers.Dropout(rate=CONFIG[\"dropout_rate\"], seed=CONFIG[\"seed_value\"])(x)\n",
    "    outputs = tf.keras.layers.Dense(units=2, activation='softmax')(x)\n",
    "\n",
    "    model = tf.keras.Model(inputs=inputs, outputs=outputs)\n",
    "    model.compile(\n",
    "        optimizer=tf.keras.optimizers.Adam(learning_rate=CONFIG[\"learning_rate\"]),\n",
    "        loss=tf.keras.losses.CategoricalCrossentropy(from_logits=False),\n",
    "        metrics=metrics,\n",
    "    )\n",
    "\n",
    "    return model"
   ]
  },
  {
   "cell_type": "code",
   "execution_count": null,
   "id": "7f327927-1edc-4e93-bb73-931445152a4e",
   "metadata": {},
   "outputs": [],
   "source": [
    "class_0_weight = (1 / healthy_count) * (image_count / 2.0)\n",
    "class_1_weight = (1 / wssv_count) * (image_count / 2.0)\n",
    "class_weight = {0: class_0_weight, 1: class_1_weight}\n",
    "\n",
    "callbacks = [\n",
    "    # tf.keras.callbacks.EarlyStopping(patience=es_patience),\n",
    "    # tf.keras.callbacks.ModelCheckpoint(filepath=\"checkpoints_training/cp-{epoch:04d}.ckpt\",\n",
    "    #                                    save_weights_only=True,\n",
    "    #                                    monitor=\"val_loss\",\n",
    "    #                                    mode=\"min\",\n",
    "    #                                    verbose=1,\n",
    "    #                                    save_best_only=True),\n",
    "    WandbCallback(save_model=False),\n",
    "    tfa.callbacks.TQDMProgressBar()\n",
    "]\n",
    "\n",
    "model.fit(train_dataset,\n",
    "          epochs=epochs,\n",
    "          validation_data=validation_dataset,\n",
    "          class_weight=class_weight,\n",
    "          callbacks=callbacks)"
   ]
  }
 ],
 "metadata": {
  "kernelspec": {
   "display_name": "Python 3 (ipykernel)",
   "language": "python",
   "name": "python3"
  },
  "language_info": {
   "codemirror_mode": {
    "name": "ipython",
    "version": 3
   },
   "file_extension": ".py",
   "mimetype": "text/x-python",
   "name": "python",
   "nbconvert_exporter": "python",
   "pygments_lexer": "ipython3",
   "version": "3.9.16"
  }
 },
 "nbformat": 4,
 "nbformat_minor": 5
}
