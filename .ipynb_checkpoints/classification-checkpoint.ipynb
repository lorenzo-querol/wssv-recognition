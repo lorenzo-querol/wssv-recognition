{
 "cells": [
  {
   "cell_type": "code",
   "execution_count": 16,
   "metadata": {
    "colab": {
     "base_uri": "https://localhost:8080/"
    },
    "id": "qs7yCV0N2BZJ",
    "outputId": "b4f23303-9266-4a37-f7d9-4f3ebf66c86c"
   },
   "outputs": [],
   "source": [
    "import matplotlib.pyplot as plt\n",
    "import tensorflow as tf\n",
    "import tensorflow_addons as tfa\n",
    "import pathlib\n",
    "import wandb\n",
    "from wandb.keras import WandbCallback\n",
    "import numpy as np\n",
    "import os\n",
    "\n",
    "os.environ['TF_CPP_MIN_LOG_LEVEL'] = '2'"
   ]
  },
  {
   "cell_type": "code",
   "execution_count": 17,
   "metadata": {
    "colab": {
     "base_uri": "https://localhost:8080/"
    },
    "id": "FGqTF6u02BZO",
    "outputId": "d18d0b34-7c86-429f-9ee0-030a30a9a0b3"
   },
   "outputs": [
    {
     "name": "stdout",
     "output_type": "stream",
     "text": [
      "2.12.0\n",
      "[PhysicalDevice(name='/physical_device:GPU:0', device_type='GPU')]\n"
     ]
    }
   ],
   "source": [
    "print(tf.__version__)\n",
    "print(tf.config.list_physical_devices(\"GPU\"))"
   ]
  },
  {
   "cell_type": "code",
   "execution_count": 18,
   "metadata": {
    "colab": {
     "base_uri": "https://localhost:8080/",
     "height": 126
    },
    "id": "ZUkAnUoS2BZP",
    "outputId": "2688f81a-61f5-40b6-f59e-2ba5ed1ba415"
   },
   "outputs": [],
   "source": [
    "DATA_DIR = pathlib.Path(\"augmented_dataset\")\n",
    "AUTOTUNE = tf.data.AUTOTUNE\n",
    "\n",
    "CONFIG = dict(\n",
    "    epochs=100,\n",
    "    learning_rate=1e-3,\n",
    "    batch_size=16,\n",
    "    img_shape=(224, 224),\n",
    "    input_shape=(224, 224, 3),\n",
    "    num_classes=2,\n",
    "    dropout_rate=0.2,\n",
    "    es_patience=20,\n",
    "    valid_split=0.4,\n",
    "    seed_value=42,\n",
    ")"
   ]
  },
  {
   "cell_type": "code",
   "execution_count": 19,
   "metadata": {
    "colab": {
     "base_uri": "https://localhost:8080/"
    },
    "id": "4oa6es7D2BZQ",
    "outputId": "345d0b59-fb1f-4c5a-9dfd-b1bb2201593c"
   },
   "outputs": [
    {
     "name": "stdout",
     "output_type": "stream",
     "text": [
      "Total number of images: 930\n",
      "Healthy: 702\n",
      "WSSV: 228\n",
      "\n",
      "Found 930 files belonging to 2 classes.\n",
      "Using 558 files for training.\n",
      "Using 372 files for validation.\n",
      "\n",
      "Class names: ['healthy', 'wssv']\n"
     ]
    }
   ],
   "source": [
    "image_count = len(list(DATA_DIR.glob(\"*/*.jpg\")))\n",
    "healthy_count = len(list(DATA_DIR.glob(\"healthy/*.jpg\")))\n",
    "wssv_count = len(list(DATA_DIR.glob(\"wssv/*.jpg\")))\n",
    "\n",
    "print(f\"Total number of images: {image_count}\")\n",
    "print(f\"Healthy: {healthy_count}\")\n",
    "print(f\"WSSV: {wssv_count}\\n\")\n",
    "\n",
    "train_set, valid_set = tf.keras.utils.image_dataset_from_directory(\n",
    "    DATA_DIR,\n",
    "    validation_split=CONFIG[\"valid_split\"],\n",
    "    seed=CONFIG[\"seed_value\"],\n",
    "    image_size=CONFIG[\"img_shape\"],\n",
    "    batch_size=CONFIG[\"batch_size\"],\n",
    "    label_mode=\"categorical\",\n",
    "    subset=\"both\",\n",
    ")\n",
    "\n",
    "class_names = train_set.class_names\n",
    "print(f\"\\nClass names: {class_names}\")"
   ]
  },
  {
   "cell_type": "code",
   "execution_count": 20,
   "metadata": {
    "colab": {
     "base_uri": "https://localhost:8080/"
    },
    "id": "XDS0XQN52BZQ",
    "outputId": "a86a1d42-a267-4e67-995e-c0689ea1a53d"
   },
   "outputs": [
    {
     "name": "stdout",
     "output_type": "stream",
     "text": [
      "\n",
      "Number of training batches: 35\n",
      "Number of validation batches: 20\n",
      "Number of test batches: 4\n"
     ]
    }
   ],
   "source": [
    "validation_batches = tf.data.experimental.cardinality(valid_set)\n",
    "validation_dataset = valid_set.skip(validation_batches // 5)\n",
    "test_dataset = valid_set.take(validation_batches // 5)\n",
    "\n",
    "'''\n",
    "Prefetch for faster loading\n",
    "'''\n",
    "train_dataset = train_set.prefetch(buffer_size=AUTOTUNE)\n",
    "validation_dataset = validation_dataset.prefetch(buffer_size=AUTOTUNE)\n",
    "test_dataset = test_dataset.prefetch(buffer_size=AUTOTUNE)\n",
    "\n",
    "'''\n",
    "Get number of batches per split\n",
    "'''\n",
    "num_training_batches = tf.data.experimental.cardinality(train_dataset)\n",
    "num_validation_batches = tf.data.experimental.cardinality(validation_dataset)\n",
    "num_test_batches = tf.data.experimental.cardinality(test_dataset)\n",
    "\n",
    "print(f\"\\nNumber of training batches: {num_training_batches}\")\n",
    "print(f\"Number of validation batches: {num_validation_batches}\")\n",
    "print(f\"Number of test batches: {num_test_batches}\")"
   ]
  },
  {
   "cell_type": "code",
   "execution_count": 21,
   "metadata": {
    "id": "89hDDdFV2BZR"
   },
   "outputs": [],
   "source": [
    "def create_model():\n",
    "    metrics = [\n",
    "        tf.keras.metrics.Precision(name='precision'),\n",
    "        tf.keras.metrics.Recall(name='recall'),\n",
    "        tfa.metrics.F1Score(average=\"weighted\", name=\"f1_score\", threshold=0.5),\n",
    "        tf.keras.metrics.FalseNegatives(name='false_negatives'),\n",
    "        tf.keras.metrics.TruePositives(name='true_positives')\n",
    "    ]\n",
    "    \n",
    "    base_model = tf.keras.applications.MobileNetV3Small(input_shape=CONFIG[\"input_shape\"], include_top=False)\n",
    "    base_model.trainable = False\n",
    "    \n",
    "    inputs = tf.keras.Input(shape=CONFIG[\"input_shape\"])\n",
    "    x = base_model(inputs, training=False)\n",
    "    x = tf.keras.layers.GlobalAveragePooling2D()(x)\n",
    "    x = tf.keras.layers.Dropout(rate=CONFIG[\"dropout_rate\"], seed=CONFIG[\"seed_value\"])(x)\n",
    "    outputs = tf.keras.layers.Dense(units=1)(x)\n",
    "\n",
    "    model = tf.keras.Model(inputs=inputs, outputs=outputs)\n",
    "    model.compile(\n",
    "        optimizer=tf.keras.optimizers.Adam(learning_rate=CONFIG[\"learning_rate\"]),\n",
    "        loss=tf.keras.losses.CategoricalCrossEntropy(),\n",
    "        metrics=metrics,\n",
    "    )\n",
    "\n",
    "    return model"
   ]
  },
  {
   "cell_type": "code",
   "execution_count": 22,
   "metadata": {
    "colab": {
     "base_uri": "https://localhost:8080/"
    },
    "id": "MHOOBatH2BZS",
    "outputId": "82c8bd7b-bb78-4eea-c282-0f48cf552e22",
    "tags": []
   },
   "outputs": [
    {
     "data": {
      "application/vnd.jupyter.widget-view+json": {
       "model_id": "35784f0475354248944f7c68bdb1fd16",
       "version_major": 2,
       "version_minor": 0
      },
      "text/plain": [
       "Training:   0%|                                                                                               …"
      ]
     },
     "metadata": {},
     "output_type": "display_data"
    },
    {
     "name": "stdout",
     "output_type": "stream",
     "text": [
      "Epoch 1/100\n"
     ]
    },
    {
     "name": "stderr",
     "output_type": "stream",
     "text": [
      "2023-05-16 23:16:33.057326: I tensorflow/core/common_runtime/executor.cc:1197] [/device:CPU:0] (DEBUG INFO) Executor start aborting (this does not indicate an error and you can ignore this message): INVALID_ARGUMENT: You must feed a value for placeholder tensor 'Placeholder/_0' with dtype string and shape [558]\n",
      "\t [[{{node Placeholder/_0}}]]\n",
      "2023-05-16 23:16:33.057683: I tensorflow/core/common_runtime/executor.cc:1197] [/device:CPU:0] (DEBUG INFO) Executor start aborting (this does not indicate an error and you can ignore this message): INVALID_ARGUMENT: You must feed a value for placeholder tensor 'Placeholder/_21' with dtype float and shape [2]\n",
      "\t [[{{node Placeholder/_21}}]]\n"
     ]
    },
    {
     "data": {
      "application/vnd.jupyter.widget-view+json": {
       "model_id": "4e513c4b0ef44951bbb23beb079d29a3",
       "version_major": 2,
       "version_minor": 0
      },
      "text/plain": [
       "0/35                                                                                                          …"
      ]
     },
     "metadata": {},
     "output_type": "display_data"
    },
    {
     "name": "stderr",
     "output_type": "stream",
     "text": [
      "2023-05-16 23:16:36.576719: I tensorflow/core/common_runtime/executor.cc:1197] [/device:CPU:0] (DEBUG INFO) Executor start aborting (this does not indicate an error and you can ignore this message): INVALID_ARGUMENT: You must feed a value for placeholder tensor 'Placeholder/_4' with dtype int32 and shape [372]\n",
      "\t [[{{node Placeholder/_4}}]]\n",
      "2023-05-16 23:16:36.576972: I tensorflow/core/common_runtime/executor.cc:1197] [/device:CPU:0] (DEBUG INFO) Executor start aborting (this does not indicate an error and you can ignore this message): INVALID_ARGUMENT: You must feed a value for placeholder tensor 'Placeholder/_4' with dtype int32 and shape [372]\n",
      "\t [[{{node Placeholder/_4}}]]\n"
     ]
    },
    {
     "name": "stdout",
     "output_type": "stream",
     "text": [
      "\n",
      "Epoch 1: val_f1_score improved from -inf to 0.44262, saving model to checkpoints/cp-0001.ckpt\n",
      "Epoch 2/100\n"
     ]
    },
    {
     "data": {
      "application/vnd.jupyter.widget-view+json": {
       "model_id": "cea3b9c74ec7483e81ff6d55c56278b3",
       "version_major": 2,
       "version_minor": 0
      },
      "text/plain": [
       "0/35                                                                                                          …"
      ]
     },
     "metadata": {},
     "output_type": "display_data"
    },
    {
     "name": "stdout",
     "output_type": "stream",
     "text": [
      "\n",
      "Epoch 2: val_f1_score improved from 0.44262 to 0.58462, saving model to checkpoints/cp-0002.ckpt\n",
      "Epoch 3/100\n"
     ]
    },
    {
     "data": {
      "application/vnd.jupyter.widget-view+json": {
       "model_id": "4bed39bfffac4578b9c14c66d2dfaf93",
       "version_major": 2,
       "version_minor": 0
      },
      "text/plain": [
       "0/35                                                                                                          …"
      ]
     },
     "metadata": {},
     "output_type": "display_data"
    },
    {
     "name": "stdout",
     "output_type": "stream",
     "text": [
      "\n",
      "Epoch 3: val_f1_score improved from 0.58462 to 0.68027, saving model to checkpoints/cp-0003.ckpt\n",
      "Epoch 4/100\n"
     ]
    },
    {
     "data": {
      "application/vnd.jupyter.widget-view+json": {
       "model_id": "f3397c0b9c2044f99847a72a5206f8ca",
       "version_major": 2,
       "version_minor": 0
      },
      "text/plain": [
       "0/35                                                                                                          …"
      ]
     },
     "metadata": {},
     "output_type": "display_data"
    },
    {
     "name": "stdout",
     "output_type": "stream",
     "text": [
      "\n",
      "Epoch 4: val_f1_score improved from 0.68027 to 0.70199, saving model to checkpoints/cp-0004.ckpt\n",
      "Epoch 5/100\n"
     ]
    },
    {
     "data": {
      "application/vnd.jupyter.widget-view+json": {
       "model_id": "26f20570ebd643c383b4fd28c084bb53",
       "version_major": 2,
       "version_minor": 0
      },
      "text/plain": [
       "0/35                                                                                                          …"
      ]
     },
     "metadata": {},
     "output_type": "display_data"
    },
    {
     "name": "stdout",
     "output_type": "stream",
     "text": [
      "\n",
      "Epoch 5: val_f1_score improved from 0.70199 to 0.72000, saving model to checkpoints/cp-0005.ckpt\n",
      "Epoch 6/100\n"
     ]
    },
    {
     "data": {
      "application/vnd.jupyter.widget-view+json": {
       "model_id": "579c13972dac4668bfdb8ee986d2c406",
       "version_major": 2,
       "version_minor": 0
      },
      "text/plain": [
       "0/35                                                                                                          …"
      ]
     },
     "metadata": {},
     "output_type": "display_data"
    },
    {
     "name": "stdout",
     "output_type": "stream",
     "text": [
      "\n",
      "Epoch 6: val_f1_score improved from 0.72000 to 0.75000, saving model to checkpoints/cp-0006.ckpt\n",
      "Epoch 7/100\n"
     ]
    },
    {
     "data": {
      "application/vnd.jupyter.widget-view+json": {
       "model_id": "a8eb67fb25c44641804098fdd212b2a6",
       "version_major": 2,
       "version_minor": 0
      },
      "text/plain": [
       "0/35                                                                                                          …"
      ]
     },
     "metadata": {},
     "output_type": "display_data"
    },
    {
     "name": "stdout",
     "output_type": "stream",
     "text": [
      "\n",
      "Epoch 7: val_f1_score improved from 0.75000 to 0.75817, saving model to checkpoints/cp-0007.ckpt\n",
      "Epoch 8/100\n"
     ]
    },
    {
     "data": {
      "application/vnd.jupyter.widget-view+json": {
       "model_id": "fdbdbaa4eb7c44a3b73fb4b68a6246b2",
       "version_major": 2,
       "version_minor": 0
      },
      "text/plain": [
       "0/35                                                                                                          …"
      ]
     },
     "metadata": {},
     "output_type": "display_data"
    },
    {
     "name": "stdout",
     "output_type": "stream",
     "text": [
      "\n",
      "Epoch 8: val_f1_score improved from 0.75817 to 0.82353, saving model to checkpoints/cp-0008.ckpt\n",
      "Epoch 9/100\n"
     ]
    },
    {
     "data": {
      "application/vnd.jupyter.widget-view+json": {
       "model_id": "75da2ac6239a48a7b0a66033a7b3ee43",
       "version_major": 2,
       "version_minor": 0
      },
      "text/plain": [
       "0/35                                                                                                          …"
      ]
     },
     "metadata": {},
     "output_type": "display_data"
    },
    {
     "name": "stdout",
     "output_type": "stream",
     "text": [
      "\n",
      "Epoch 9: val_f1_score did not improve from 0.82353\n",
      "Epoch 10/100\n"
     ]
    },
    {
     "data": {
      "application/vnd.jupyter.widget-view+json": {
       "model_id": "012a6a6e0f01441f86451eee0d00ce67",
       "version_major": 2,
       "version_minor": 0
      },
      "text/plain": [
       "0/35                                                                                                          …"
      ]
     },
     "metadata": {},
     "output_type": "display_data"
    },
    {
     "name": "stdout",
     "output_type": "stream",
     "text": [
      "\n",
      "Epoch 10: val_f1_score did not improve from 0.82353\n",
      "Epoch 11/100\n"
     ]
    },
    {
     "data": {
      "application/vnd.jupyter.widget-view+json": {
       "model_id": "ccce86f4909d4e21aca3aaedce66e39d",
       "version_major": 2,
       "version_minor": 0
      },
      "text/plain": [
       "0/35                                                                                                          …"
      ]
     },
     "metadata": {},
     "output_type": "display_data"
    },
    {
     "name": "stdout",
     "output_type": "stream",
     "text": [
      "\n",
      "Epoch 11: val_f1_score improved from 0.82353 to 0.86747, saving model to checkpoints/cp-0011.ckpt\n",
      "Epoch 12/100\n"
     ]
    },
    {
     "data": {
      "application/vnd.jupyter.widget-view+json": {
       "model_id": "39889aff0ca145acb946d29ce5be0773",
       "version_major": 2,
       "version_minor": 0
      },
      "text/plain": [
       "0/35                                                                                                          …"
      ]
     },
     "metadata": {},
     "output_type": "display_data"
    },
    {
     "name": "stdout",
     "output_type": "stream",
     "text": [
      "\n",
      "Epoch 12: val_f1_score did not improve from 0.86747\n",
      "Epoch 13/100\n"
     ]
    },
    {
     "data": {
      "application/vnd.jupyter.widget-view+json": {
       "model_id": "c483b51c71324fca9dcf0937878c4708",
       "version_major": 2,
       "version_minor": 0
      },
      "text/plain": [
       "0/35                                                                                                          …"
      ]
     },
     "metadata": {},
     "output_type": "display_data"
    },
    {
     "name": "stdout",
     "output_type": "stream",
     "text": [
      "\n",
      "Epoch 13: val_f1_score improved from 0.86747 to 0.86905, saving model to checkpoints/cp-0013.ckpt\n",
      "Epoch 14/100\n"
     ]
    },
    {
     "data": {
      "application/vnd.jupyter.widget-view+json": {
       "model_id": "047a9e9ebda441108b5511d7a50ac283",
       "version_major": 2,
       "version_minor": 0
      },
      "text/plain": [
       "0/35                                                                                                          …"
      ]
     },
     "metadata": {},
     "output_type": "display_data"
    },
    {
     "name": "stdout",
     "output_type": "stream",
     "text": [
      "\n",
      "Epoch 14: val_f1_score did not improve from 0.86905\n",
      "Epoch 15/100\n"
     ]
    },
    {
     "data": {
      "application/vnd.jupyter.widget-view+json": {
       "model_id": "300da9e6f4724529babf11226e5cdf90",
       "version_major": 2,
       "version_minor": 0
      },
      "text/plain": [
       "0/35                                                                                                          …"
      ]
     },
     "metadata": {},
     "output_type": "display_data"
    },
    {
     "name": "stdout",
     "output_type": "stream",
     "text": [
      "\n",
      "Epoch 15: val_f1_score did not improve from 0.86905\n",
      "Epoch 16/100\n"
     ]
    },
    {
     "data": {
      "application/vnd.jupyter.widget-view+json": {
       "model_id": "3deadc202f1d44e78e4f2a86b2a97f35",
       "version_major": 2,
       "version_minor": 0
      },
      "text/plain": [
       "0/35                                                                                                          …"
      ]
     },
     "metadata": {},
     "output_type": "display_data"
    },
    {
     "name": "stdout",
     "output_type": "stream",
     "text": [
      "\n",
      "Epoch 16: val_f1_score improved from 0.86905 to 0.86957, saving model to checkpoints/cp-0016.ckpt\n",
      "Epoch 17/100\n"
     ]
    },
    {
     "data": {
      "application/vnd.jupyter.widget-view+json": {
       "model_id": "8ed6e59ca7d9484294d523434d87e9be",
       "version_major": 2,
       "version_minor": 0
      },
      "text/plain": [
       "0/35                                                                                                          …"
      ]
     },
     "metadata": {},
     "output_type": "display_data"
    },
    {
     "name": "stdout",
     "output_type": "stream",
     "text": [
      "\n",
      "Epoch 17: val_f1_score did not improve from 0.86957\n",
      "Epoch 18/100\n"
     ]
    },
    {
     "data": {
      "application/vnd.jupyter.widget-view+json": {
       "model_id": "06b44e70302248cb9a6e1468d2f7666d",
       "version_major": 2,
       "version_minor": 0
      },
      "text/plain": [
       "0/35                                                                                                          …"
      ]
     },
     "metadata": {},
     "output_type": "display_data"
    },
    {
     "name": "stdout",
     "output_type": "stream",
     "text": [
      "\n",
      "Epoch 18: val_f1_score improved from 0.86957 to 0.88344, saving model to checkpoints/cp-0018.ckpt\n",
      "Epoch 19/100\n"
     ]
    },
    {
     "data": {
      "application/vnd.jupyter.widget-view+json": {
       "model_id": "adf4fe96200447f7b9b472d11c7a50be",
       "version_major": 2,
       "version_minor": 0
      },
      "text/plain": [
       "0/35                                                                                                          …"
      ]
     },
     "metadata": {},
     "output_type": "display_data"
    },
    {
     "name": "stdout",
     "output_type": "stream",
     "text": [
      "\n",
      "Epoch 19: val_f1_score did not improve from 0.88344\n",
      "Epoch 20/100\n"
     ]
    },
    {
     "data": {
      "application/vnd.jupyter.widget-view+json": {
       "model_id": "03a73d753f8f44daadfe05daa888f728",
       "version_major": 2,
       "version_minor": 0
      },
      "text/plain": [
       "0/35                                                                                                          …"
      ]
     },
     "metadata": {},
     "output_type": "display_data"
    },
    {
     "name": "stdout",
     "output_type": "stream",
     "text": [
      "\n",
      "Epoch 20: val_f1_score did not improve from 0.88344\n",
      "Epoch 21/100\n"
     ]
    },
    {
     "data": {
      "application/vnd.jupyter.widget-view+json": {
       "model_id": "7b5dbbc979d44ad480b7b9fdcf72414a",
       "version_major": 2,
       "version_minor": 0
      },
      "text/plain": [
       "0/35                                                                                                          …"
      ]
     },
     "metadata": {},
     "output_type": "display_data"
    },
    {
     "name": "stdout",
     "output_type": "stream",
     "text": [
      "\n",
      "Epoch 21: val_f1_score did not improve from 0.88344\n",
      "Epoch 22/100\n"
     ]
    },
    {
     "data": {
      "application/vnd.jupyter.widget-view+json": {
       "model_id": "63e1a8e026f646b78e62850f176c3833",
       "version_major": 2,
       "version_minor": 0
      },
      "text/plain": [
       "0/35                                                                                                          …"
      ]
     },
     "metadata": {},
     "output_type": "display_data"
    },
    {
     "name": "stdout",
     "output_type": "stream",
     "text": [
      "\n",
      "Epoch 22: val_f1_score did not improve from 0.88344\n",
      "Epoch 23/100\n"
     ]
    },
    {
     "data": {
      "application/vnd.jupyter.widget-view+json": {
       "model_id": "74ae56c72ca74d57ab6070a773ed19b2",
       "version_major": 2,
       "version_minor": 0
      },
      "text/plain": [
       "0/35                                                                                                          …"
      ]
     },
     "metadata": {},
     "output_type": "display_data"
    },
    {
     "name": "stdout",
     "output_type": "stream",
     "text": [
      "\n",
      "Epoch 23: val_f1_score did not improve from 0.88344\n",
      "Epoch 24/100\n"
     ]
    },
    {
     "data": {
      "application/vnd.jupyter.widget-view+json": {
       "model_id": "7b6be1277c4e40f4bb32723d92112cef",
       "version_major": 2,
       "version_minor": 0
      },
      "text/plain": [
       "0/35                                                                                                          …"
      ]
     },
     "metadata": {},
     "output_type": "display_data"
    },
    {
     "name": "stdout",
     "output_type": "stream",
     "text": [
      "\n",
      "Epoch 24: val_f1_score improved from 0.88344 to 0.89697, saving model to checkpoints/cp-0024.ckpt\n",
      "Epoch 25/100\n"
     ]
    },
    {
     "data": {
      "application/vnd.jupyter.widget-view+json": {
       "model_id": "d84de854d2004a6989bf21bb42984f52",
       "version_major": 2,
       "version_minor": 0
      },
      "text/plain": [
       "0/35                                                                                                          …"
      ]
     },
     "metadata": {},
     "output_type": "display_data"
    },
    {
     "name": "stdout",
     "output_type": "stream",
     "text": [
      "\n",
      "Epoch 25: val_f1_score did not improve from 0.89697\n",
      "Epoch 26/100\n"
     ]
    },
    {
     "data": {
      "application/vnd.jupyter.widget-view+json": {
       "model_id": "debc56be9ac1452a8af5d14f2ec1a281",
       "version_major": 2,
       "version_minor": 0
      },
      "text/plain": [
       "0/35                                                                                                          …"
      ]
     },
     "metadata": {},
     "output_type": "display_data"
    },
    {
     "name": "stdout",
     "output_type": "stream",
     "text": [
      "\n",
      "Epoch 26: val_f1_score did not improve from 0.89697\n",
      "Epoch 27/100\n"
     ]
    },
    {
     "data": {
      "application/vnd.jupyter.widget-view+json": {
       "model_id": "06bf818e03064860bc6ae9456084c467",
       "version_major": 2,
       "version_minor": 0
      },
      "text/plain": [
       "0/35                                                                                                          …"
      ]
     },
     "metadata": {},
     "output_type": "display_data"
    },
    {
     "name": "stdout",
     "output_type": "stream",
     "text": [
      "\n",
      "Epoch 27: val_f1_score did not improve from 0.89697\n",
      "Epoch 28/100\n"
     ]
    },
    {
     "data": {
      "application/vnd.jupyter.widget-view+json": {
       "model_id": "9eb3c1c43f064702b7c4d8f54de14df7",
       "version_major": 2,
       "version_minor": 0
      },
      "text/plain": [
       "0/35                                                                                                          …"
      ]
     },
     "metadata": {},
     "output_type": "display_data"
    },
    {
     "name": "stdout",
     "output_type": "stream",
     "text": [
      "\n",
      "Epoch 28: val_f1_score did not improve from 0.89697\n",
      "Epoch 29/100\n"
     ]
    },
    {
     "data": {
      "application/vnd.jupyter.widget-view+json": {
       "model_id": "5aef5eedd1984da69c4ad1b3eece0260",
       "version_major": 2,
       "version_minor": 0
      },
      "text/plain": [
       "0/35                                                                                                          …"
      ]
     },
     "metadata": {},
     "output_type": "display_data"
    },
    {
     "name": "stdout",
     "output_type": "stream",
     "text": [
      "\n",
      "Epoch 29: val_f1_score did not improve from 0.89697\n",
      "Epoch 30/100\n"
     ]
    },
    {
     "data": {
      "application/vnd.jupyter.widget-view+json": {
       "model_id": "8558de8d44dc4671beb551937224211c",
       "version_major": 2,
       "version_minor": 0
      },
      "text/plain": [
       "0/35                                                                                                          …"
      ]
     },
     "metadata": {},
     "output_type": "display_data"
    },
    {
     "name": "stdout",
     "output_type": "stream",
     "text": [
      "\n",
      "Epoch 30: val_f1_score improved from 0.89697 to 0.90244, saving model to checkpoints/cp-0030.ckpt\n",
      "Epoch 31/100\n"
     ]
    },
    {
     "data": {
      "application/vnd.jupyter.widget-view+json": {
       "model_id": "1b3d2c813a894b128fe5282470c8567a",
       "version_major": 2,
       "version_minor": 0
      },
      "text/plain": [
       "0/35                                                                                                          …"
      ]
     },
     "metadata": {},
     "output_type": "display_data"
    },
    {
     "name": "stdout",
     "output_type": "stream",
     "text": [
      "\n",
      "Epoch 31: val_f1_score did not improve from 0.90244\n",
      "Epoch 32/100\n"
     ]
    },
    {
     "data": {
      "application/vnd.jupyter.widget-view+json": {
       "model_id": "599081a6db4d4cdf99507947135e0b01",
       "version_major": 2,
       "version_minor": 0
      },
      "text/plain": [
       "0/35                                                                                                          …"
      ]
     },
     "metadata": {},
     "output_type": "display_data"
    },
    {
     "name": "stdout",
     "output_type": "stream",
     "text": [
      "\n",
      "Epoch 32: val_f1_score did not improve from 0.90244\n",
      "Epoch 33/100\n"
     ]
    },
    {
     "data": {
      "application/vnd.jupyter.widget-view+json": {
       "model_id": "720e3506e99a40399cba432eb5adb0f8",
       "version_major": 2,
       "version_minor": 0
      },
      "text/plain": [
       "0/35                                                                                                          …"
      ]
     },
     "metadata": {},
     "output_type": "display_data"
    },
    {
     "name": "stdout",
     "output_type": "stream",
     "text": [
      "\n",
      "Epoch 33: val_f1_score did not improve from 0.90244\n",
      "Epoch 34/100\n"
     ]
    },
    {
     "data": {
      "application/vnd.jupyter.widget-view+json": {
       "model_id": "9e0ec97428db4a989966ebce15a7dd85",
       "version_major": 2,
       "version_minor": 0
      },
      "text/plain": [
       "0/35                                                                                                          …"
      ]
     },
     "metadata": {},
     "output_type": "display_data"
    },
    {
     "name": "stdout",
     "output_type": "stream",
     "text": [
      "\n",
      "Epoch 34: val_f1_score did not improve from 0.90244\n",
      "Epoch 35/100\n"
     ]
    },
    {
     "data": {
      "application/vnd.jupyter.widget-view+json": {
       "model_id": "0b7d2b4d42f244528f88ad97d223c85c",
       "version_major": 2,
       "version_minor": 0
      },
      "text/plain": [
       "0/35                                                                                                          …"
      ]
     },
     "metadata": {},
     "output_type": "display_data"
    },
    {
     "name": "stdout",
     "output_type": "stream",
     "text": [
      "\n",
      "Epoch 35: val_f1_score did not improve from 0.90244\n",
      "Epoch 36/100\n"
     ]
    },
    {
     "data": {
      "application/vnd.jupyter.widget-view+json": {
       "model_id": "cad732261b144c508b03ac6733c8fea9",
       "version_major": 2,
       "version_minor": 0
      },
      "text/plain": [
       "0/35                                                                                                          …"
      ]
     },
     "metadata": {},
     "output_type": "display_data"
    },
    {
     "name": "stdout",
     "output_type": "stream",
     "text": [
      "\n",
      "Epoch 36: val_f1_score did not improve from 0.90244\n",
      "Epoch 37/100\n"
     ]
    },
    {
     "data": {
      "application/vnd.jupyter.widget-view+json": {
       "model_id": "4f424d3331284716823be4c64051c6ea",
       "version_major": 2,
       "version_minor": 0
      },
      "text/plain": [
       "0/35                                                                                                          …"
      ]
     },
     "metadata": {},
     "output_type": "display_data"
    },
    {
     "name": "stdout",
     "output_type": "stream",
     "text": [
      "\n",
      "Epoch 37: val_f1_score did not improve from 0.90244\n",
      "Epoch 38/100\n"
     ]
    },
    {
     "data": {
      "application/vnd.jupyter.widget-view+json": {
       "model_id": "e7bf88658fff446e8d9043cf6cf7eb9e",
       "version_major": 2,
       "version_minor": 0
      },
      "text/plain": [
       "0/35                                                                                                          …"
      ]
     },
     "metadata": {},
     "output_type": "display_data"
    },
    {
     "name": "stdout",
     "output_type": "stream",
     "text": [
      "\n",
      "Epoch 38: val_f1_score improved from 0.90244 to 0.92216, saving model to checkpoints/cp-0038.ckpt\n",
      "Epoch 39/100\n"
     ]
    },
    {
     "data": {
      "application/vnd.jupyter.widget-view+json": {
       "model_id": "0ebd458aaee2446f9418fb8b97eb9caa",
       "version_major": 2,
       "version_minor": 0
      },
      "text/plain": [
       "0/35                                                                                                          …"
      ]
     },
     "metadata": {},
     "output_type": "display_data"
    },
    {
     "name": "stdout",
     "output_type": "stream",
     "text": [
      "\n",
      "Epoch 39: val_f1_score did not improve from 0.92216\n",
      "Epoch 40/100\n"
     ]
    },
    {
     "data": {
      "application/vnd.jupyter.widget-view+json": {
       "model_id": "a9fb6cf5a4274719955cbde73e38c7e9",
       "version_major": 2,
       "version_minor": 0
      },
      "text/plain": [
       "0/35                                                                                                          …"
      ]
     },
     "metadata": {},
     "output_type": "display_data"
    },
    {
     "name": "stdout",
     "output_type": "stream",
     "text": [
      "\n",
      "Epoch 40: val_f1_score did not improve from 0.92216\n",
      "Epoch 41/100\n"
     ]
    },
    {
     "data": {
      "application/vnd.jupyter.widget-view+json": {
       "model_id": "35fa133a485141629273f0204c52b6f7",
       "version_major": 2,
       "version_minor": 0
      },
      "text/plain": [
       "0/35                                                                                                          …"
      ]
     },
     "metadata": {},
     "output_type": "display_data"
    },
    {
     "name": "stdout",
     "output_type": "stream",
     "text": [
      "\n",
      "Epoch 41: val_f1_score did not improve from 0.92216\n",
      "Epoch 42/100\n"
     ]
    },
    {
     "data": {
      "application/vnd.jupyter.widget-view+json": {
       "model_id": "3e0e1b23d1b44a15a73a24892b6f0db5",
       "version_major": 2,
       "version_minor": 0
      },
      "text/plain": [
       "0/35                                                                                                          …"
      ]
     },
     "metadata": {},
     "output_type": "display_data"
    },
    {
     "name": "stdout",
     "output_type": "stream",
     "text": [
      "\n",
      "Epoch 42: val_f1_score did not improve from 0.92216\n",
      "Epoch 43/100\n"
     ]
    },
    {
     "data": {
      "application/vnd.jupyter.widget-view+json": {
       "model_id": "8237a170a1e9422b98c22929e2a3c5d6",
       "version_major": 2,
       "version_minor": 0
      },
      "text/plain": [
       "0/35                                                                                                          …"
      ]
     },
     "metadata": {},
     "output_type": "display_data"
    },
    {
     "name": "stdout",
     "output_type": "stream",
     "text": [
      "\n",
      "Epoch 43: val_f1_score did not improve from 0.92216\n",
      "Epoch 44/100\n"
     ]
    },
    {
     "data": {
      "application/vnd.jupyter.widget-view+json": {
       "model_id": "87e9a802e13644cfbc20a5324cc8c86e",
       "version_major": 2,
       "version_minor": 0
      },
      "text/plain": [
       "0/35                                                                                                          …"
      ]
     },
     "metadata": {},
     "output_type": "display_data"
    },
    {
     "name": "stdout",
     "output_type": "stream",
     "text": [
      "\n",
      "Epoch 44: val_f1_score did not improve from 0.92216\n",
      "Epoch 45/100\n"
     ]
    },
    {
     "data": {
      "application/vnd.jupyter.widget-view+json": {
       "model_id": "20c3059f25a7451a8e3f7710e8f56a77",
       "version_major": 2,
       "version_minor": 0
      },
      "text/plain": [
       "0/35                                                                                                          …"
      ]
     },
     "metadata": {},
     "output_type": "display_data"
    },
    {
     "name": "stdout",
     "output_type": "stream",
     "text": [
      "\n",
      "Epoch 45: val_f1_score did not improve from 0.92216\n",
      "Epoch 46/100\n"
     ]
    },
    {
     "data": {
      "application/vnd.jupyter.widget-view+json": {
       "model_id": "17f869e61ed540c99d3b63b7ae11baf7",
       "version_major": 2,
       "version_minor": 0
      },
      "text/plain": [
       "0/35                                                                                                          …"
      ]
     },
     "metadata": {},
     "output_type": "display_data"
    },
    {
     "name": "stdout",
     "output_type": "stream",
     "text": [
      "\n",
      "Epoch 46: val_f1_score did not improve from 0.92216\n",
      "Epoch 47/100\n"
     ]
    },
    {
     "data": {
      "application/vnd.jupyter.widget-view+json": {
       "model_id": "1ca61db1df024f849ba2f74c41b8e08d",
       "version_major": 2,
       "version_minor": 0
      },
      "text/plain": [
       "0/35                                                                                                          …"
      ]
     },
     "metadata": {},
     "output_type": "display_data"
    },
    {
     "name": "stdout",
     "output_type": "stream",
     "text": [
      "\n",
      "Epoch 47: val_f1_score did not improve from 0.92216\n",
      "Epoch 48/100\n"
     ]
    },
    {
     "data": {
      "application/vnd.jupyter.widget-view+json": {
       "model_id": "7e1831a31ba943bebd6a3ce1dda8161b",
       "version_major": 2,
       "version_minor": 0
      },
      "text/plain": [
       "0/35                                                                                                          …"
      ]
     },
     "metadata": {},
     "output_type": "display_data"
    },
    {
     "name": "stdout",
     "output_type": "stream",
     "text": [
      "\n",
      "Epoch 48: val_f1_score did not improve from 0.92216\n",
      "Epoch 49/100\n"
     ]
    },
    {
     "data": {
      "application/vnd.jupyter.widget-view+json": {
       "model_id": "ec9bf943406945459c22a0e413a8a27b",
       "version_major": 2,
       "version_minor": 0
      },
      "text/plain": [
       "0/35                                                                                                          …"
      ]
     },
     "metadata": {},
     "output_type": "display_data"
    },
    {
     "name": "stdout",
     "output_type": "stream",
     "text": [
      "\n",
      "Epoch 49: val_f1_score did not improve from 0.92216\n",
      "Epoch 50/100\n"
     ]
    },
    {
     "data": {
      "application/vnd.jupyter.widget-view+json": {
       "model_id": "b792cd89579f44878c8aa4d7cc05f4c9",
       "version_major": 2,
       "version_minor": 0
      },
      "text/plain": [
       "0/35                                                                                                          …"
      ]
     },
     "metadata": {},
     "output_type": "display_data"
    },
    {
     "name": "stdout",
     "output_type": "stream",
     "text": [
      "\n",
      "Epoch 50: val_f1_score did not improve from 0.92216\n",
      "Epoch 51/100\n"
     ]
    },
    {
     "data": {
      "application/vnd.jupyter.widget-view+json": {
       "model_id": "5468ad3e9dcc4728a2c19e835a999af3",
       "version_major": 2,
       "version_minor": 0
      },
      "text/plain": [
       "0/35                                                                                                          …"
      ]
     },
     "metadata": {},
     "output_type": "display_data"
    },
    {
     "name": "stdout",
     "output_type": "stream",
     "text": [
      "\n",
      "Epoch 51: val_f1_score did not improve from 0.92216\n",
      "Epoch 52/100\n"
     ]
    },
    {
     "data": {
      "application/vnd.jupyter.widget-view+json": {
       "model_id": "9bcf6d4526c147cb8313749e9de3b011",
       "version_major": 2,
       "version_minor": 0
      },
      "text/plain": [
       "0/35                                                                                                          …"
      ]
     },
     "metadata": {},
     "output_type": "display_data"
    },
    {
     "name": "stdout",
     "output_type": "stream",
     "text": [
      "\n",
      "Epoch 52: val_f1_score did not improve from 0.92216\n",
      "Epoch 53/100\n"
     ]
    },
    {
     "data": {
      "application/vnd.jupyter.widget-view+json": {
       "model_id": "a58927435ccd4adc951a01b30308236f",
       "version_major": 2,
       "version_minor": 0
      },
      "text/plain": [
       "0/35                                                                                                          …"
      ]
     },
     "metadata": {},
     "output_type": "display_data"
    },
    {
     "name": "stdout",
     "output_type": "stream",
     "text": [
      "\n",
      "Epoch 53: val_f1_score did not improve from 0.92216\n",
      "Epoch 54/100\n"
     ]
    },
    {
     "data": {
      "application/vnd.jupyter.widget-view+json": {
       "model_id": "20c07ed3b6604525be6a48e05dfbbf40",
       "version_major": 2,
       "version_minor": 0
      },
      "text/plain": [
       "0/35                                                                                                          …"
      ]
     },
     "metadata": {},
     "output_type": "display_data"
    },
    {
     "name": "stdout",
     "output_type": "stream",
     "text": [
      "\n",
      "Epoch 54: val_f1_score did not improve from 0.92216\n",
      "Epoch 55/100\n"
     ]
    },
    {
     "data": {
      "application/vnd.jupyter.widget-view+json": {
       "model_id": "8e5a9769225b43c69a5b00a0fd843fb5",
       "version_major": 2,
       "version_minor": 0
      },
      "text/plain": [
       "0/35                                                                                                          …"
      ]
     },
     "metadata": {},
     "output_type": "display_data"
    },
    {
     "name": "stdout",
     "output_type": "stream",
     "text": [
      "\n",
      "Epoch 55: val_f1_score did not improve from 0.92216\n",
      "Epoch 56/100\n"
     ]
    },
    {
     "data": {
      "application/vnd.jupyter.widget-view+json": {
       "model_id": "a1ac0101733e47ac9699e59ca292625c",
       "version_major": 2,
       "version_minor": 0
      },
      "text/plain": [
       "0/35                                                                                                          …"
      ]
     },
     "metadata": {},
     "output_type": "display_data"
    },
    {
     "name": "stdout",
     "output_type": "stream",
     "text": [
      "\n",
      "Epoch 56: val_f1_score did not improve from 0.92216\n",
      "Epoch 57/100\n"
     ]
    },
    {
     "data": {
      "application/vnd.jupyter.widget-view+json": {
       "model_id": "80e7c9af4fd149f6a218a8ec5021b0c4",
       "version_major": 2,
       "version_minor": 0
      },
      "text/plain": [
       "0/35                                                                                                          …"
      ]
     },
     "metadata": {},
     "output_type": "display_data"
    },
    {
     "name": "stdout",
     "output_type": "stream",
     "text": [
      "\n",
      "Epoch 57: val_f1_score did not improve from 0.92216\n",
      "Epoch 58/100\n"
     ]
    },
    {
     "data": {
      "application/vnd.jupyter.widget-view+json": {
       "model_id": "4c644397b502481e9f4fabe8fbc6e8fd",
       "version_major": 2,
       "version_minor": 0
      },
      "text/plain": [
       "0/35                                                                                                          …"
      ]
     },
     "metadata": {},
     "output_type": "display_data"
    },
    {
     "name": "stdout",
     "output_type": "stream",
     "text": [
      "\n",
      "Epoch 58: val_f1_score did not improve from 0.92216\n",
      "Epoch 59/100\n"
     ]
    },
    {
     "data": {
      "application/vnd.jupyter.widget-view+json": {
       "model_id": "897d8e1222624175b805b5060a5c394c",
       "version_major": 2,
       "version_minor": 0
      },
      "text/plain": [
       "0/35                                                                                                          …"
      ]
     },
     "metadata": {},
     "output_type": "display_data"
    },
    {
     "name": "stdout",
     "output_type": "stream",
     "text": [
      "\n",
      "Epoch 59: val_f1_score did not improve from 0.92216\n",
      "Epoch 60/100\n"
     ]
    },
    {
     "data": {
      "application/vnd.jupyter.widget-view+json": {
       "model_id": "a008a44c4f7744df86e65e8b3015bf13",
       "version_major": 2,
       "version_minor": 0
      },
      "text/plain": [
       "0/35                                                                                                          …"
      ]
     },
     "metadata": {},
     "output_type": "display_data"
    },
    {
     "name": "stdout",
     "output_type": "stream",
     "text": [
      "\n",
      "Epoch 60: val_f1_score did not improve from 0.92216\n",
      "Epoch 61/100\n"
     ]
    },
    {
     "data": {
      "application/vnd.jupyter.widget-view+json": {
       "model_id": "c55b0e9dad8a4ced9aa2a2fd3749b4bc",
       "version_major": 2,
       "version_minor": 0
      },
      "text/plain": [
       "0/35                                                                                                          …"
      ]
     },
     "metadata": {},
     "output_type": "display_data"
    },
    {
     "name": "stdout",
     "output_type": "stream",
     "text": [
      "\n",
      "Epoch 61: val_f1_score did not improve from 0.92216\n",
      "Epoch 62/100\n"
     ]
    },
    {
     "data": {
      "application/vnd.jupyter.widget-view+json": {
       "model_id": "bd44f8a30a194a4e99e59f458c44683e",
       "version_major": 2,
       "version_minor": 0
      },
      "text/plain": [
       "0/35                                                                                                          …"
      ]
     },
     "metadata": {},
     "output_type": "display_data"
    },
    {
     "name": "stdout",
     "output_type": "stream",
     "text": [
      "\n",
      "Epoch 62: val_f1_score improved from 0.92216 to 0.92771, saving model to checkpoints/cp-0062.ckpt\n",
      "Epoch 63/100\n"
     ]
    },
    {
     "data": {
      "application/vnd.jupyter.widget-view+json": {
       "model_id": "3869cf11146d4523bd5a3e0417285e00",
       "version_major": 2,
       "version_minor": 0
      },
      "text/plain": [
       "0/35                                                                                                          …"
      ]
     },
     "metadata": {},
     "output_type": "display_data"
    },
    {
     "name": "stdout",
     "output_type": "stream",
     "text": [
      "\n",
      "Epoch 63: val_f1_score did not improve from 0.92771\n",
      "Epoch 64/100\n"
     ]
    },
    {
     "data": {
      "application/vnd.jupyter.widget-view+json": {
       "model_id": "be37d4e96e5b4b89a5141d086679b380",
       "version_major": 2,
       "version_minor": 0
      },
      "text/plain": [
       "0/35                                                                                                          …"
      ]
     },
     "metadata": {},
     "output_type": "display_data"
    },
    {
     "name": "stdout",
     "output_type": "stream",
     "text": [
      "\n",
      "Epoch 64: val_f1_score did not improve from 0.92771\n",
      "Epoch 65/100\n"
     ]
    },
    {
     "data": {
      "application/vnd.jupyter.widget-view+json": {
       "model_id": "a4418f64c64b43659480e61f1b0727cc",
       "version_major": 2,
       "version_minor": 0
      },
      "text/plain": [
       "0/35                                                                                                          …"
      ]
     },
     "metadata": {},
     "output_type": "display_data"
    },
    {
     "name": "stdout",
     "output_type": "stream",
     "text": [
      "\n",
      "Epoch 65: val_f1_score did not improve from 0.92771\n",
      "Epoch 66/100\n"
     ]
    },
    {
     "data": {
      "application/vnd.jupyter.widget-view+json": {
       "model_id": "a140cb41085a4974977e5b9589a9f9a3",
       "version_major": 2,
       "version_minor": 0
      },
      "text/plain": [
       "0/35                                                                                                          …"
      ]
     },
     "metadata": {},
     "output_type": "display_data"
    },
    {
     "name": "stdout",
     "output_type": "stream",
     "text": [
      "\n",
      "Epoch 66: val_f1_score did not improve from 0.92771\n",
      "Epoch 67/100\n"
     ]
    },
    {
     "data": {
      "application/vnd.jupyter.widget-view+json": {
       "model_id": "4b2be68ab7d44fc4ab6ab855c3e5b350",
       "version_major": 2,
       "version_minor": 0
      },
      "text/plain": [
       "0/35                                                                                                          …"
      ]
     },
     "metadata": {},
     "output_type": "display_data"
    },
    {
     "name": "stdout",
     "output_type": "stream",
     "text": [
      "\n",
      "Epoch 67: val_f1_score did not improve from 0.92771\n",
      "Epoch 68/100\n"
     ]
    },
    {
     "data": {
      "application/vnd.jupyter.widget-view+json": {
       "model_id": "2ab5944581a24bc4ae577713fc39e683",
       "version_major": 2,
       "version_minor": 0
      },
      "text/plain": [
       "0/35                                                                                                          …"
      ]
     },
     "metadata": {},
     "output_type": "display_data"
    },
    {
     "name": "stdout",
     "output_type": "stream",
     "text": [
      "\n",
      "Epoch 68: val_f1_score did not improve from 0.92771\n",
      "Epoch 69/100\n"
     ]
    },
    {
     "data": {
      "application/vnd.jupyter.widget-view+json": {
       "model_id": "1a952baf7f0a4226a921674a1dd0bf22",
       "version_major": 2,
       "version_minor": 0
      },
      "text/plain": [
       "0/35                                                                                                          …"
      ]
     },
     "metadata": {},
     "output_type": "display_data"
    },
    {
     "name": "stdout",
     "output_type": "stream",
     "text": [
      "\n",
      "Epoch 69: val_f1_score did not improve from 0.92771\n",
      "Epoch 70/100\n"
     ]
    },
    {
     "data": {
      "application/vnd.jupyter.widget-view+json": {
       "model_id": "a8454fd157184076b5c7993466b63488",
       "version_major": 2,
       "version_minor": 0
      },
      "text/plain": [
       "0/35                                                                                                          …"
      ]
     },
     "metadata": {},
     "output_type": "display_data"
    },
    {
     "name": "stdout",
     "output_type": "stream",
     "text": [
      "\n",
      "Epoch 70: val_f1_score improved from 0.92771 to 0.93413, saving model to checkpoints/cp-0070.ckpt\n",
      "Epoch 71/100\n"
     ]
    },
    {
     "data": {
      "application/vnd.jupyter.widget-view+json": {
       "model_id": "02c3fdb90ada47da8e798f479458fbc2",
       "version_major": 2,
       "version_minor": 0
      },
      "text/plain": [
       "0/35                                                                                                          …"
      ]
     },
     "metadata": {},
     "output_type": "display_data"
    },
    {
     "name": "stdout",
     "output_type": "stream",
     "text": [
      "\n",
      "Epoch 71: val_f1_score did not improve from 0.93413\n",
      "Epoch 72/100\n"
     ]
    },
    {
     "data": {
      "application/vnd.jupyter.widget-view+json": {
       "model_id": "814d2ef3f4e645988f7903ec7606d897",
       "version_major": 2,
       "version_minor": 0
      },
      "text/plain": [
       "0/35                                                                                                          …"
      ]
     },
     "metadata": {},
     "output_type": "display_data"
    },
    {
     "name": "stdout",
     "output_type": "stream",
     "text": [
      "\n",
      "Epoch 72: val_f1_score did not improve from 0.93413\n",
      "Epoch 73/100\n"
     ]
    },
    {
     "data": {
      "application/vnd.jupyter.widget-view+json": {
       "model_id": "f9c76bd87ea6433e86c2e1da96157bae",
       "version_major": 2,
       "version_minor": 0
      },
      "text/plain": [
       "0/35                                                                                                          …"
      ]
     },
     "metadata": {},
     "output_type": "display_data"
    },
    {
     "name": "stdout",
     "output_type": "stream",
     "text": [
      "\n",
      "Epoch 73: val_f1_score did not improve from 0.93413\n",
      "Epoch 74/100\n"
     ]
    },
    {
     "data": {
      "application/vnd.jupyter.widget-view+json": {
       "model_id": "b3a4fde066e141188f77f9d437b5575b",
       "version_major": 2,
       "version_minor": 0
      },
      "text/plain": [
       "0/35                                                                                                          …"
      ]
     },
     "metadata": {},
     "output_type": "display_data"
    },
    {
     "name": "stdout",
     "output_type": "stream",
     "text": [
      "\n",
      "Epoch 74: val_f1_score did not improve from 0.93413\n",
      "Epoch 75/100\n"
     ]
    },
    {
     "data": {
      "application/vnd.jupyter.widget-view+json": {
       "model_id": "9038b880585a4a87889a5324899e4f2f",
       "version_major": 2,
       "version_minor": 0
      },
      "text/plain": [
       "0/35                                                                                                          …"
      ]
     },
     "metadata": {},
     "output_type": "display_data"
    },
    {
     "name": "stdout",
     "output_type": "stream",
     "text": [
      "\n",
      "Epoch 75: val_f1_score did not improve from 0.93413\n",
      "Epoch 76/100\n"
     ]
    },
    {
     "data": {
      "application/vnd.jupyter.widget-view+json": {
       "model_id": "2099973315454befa72e8c489c7f30f2",
       "version_major": 2,
       "version_minor": 0
      },
      "text/plain": [
       "0/35                                                                                                          …"
      ]
     },
     "metadata": {},
     "output_type": "display_data"
    },
    {
     "name": "stdout",
     "output_type": "stream",
     "text": [
      "\n",
      "Epoch 76: val_f1_score did not improve from 0.93413\n",
      "Epoch 77/100\n"
     ]
    },
    {
     "data": {
      "application/vnd.jupyter.widget-view+json": {
       "model_id": "cd7d430ede8a4fb194d6a86d897fcc7e",
       "version_major": 2,
       "version_minor": 0
      },
      "text/plain": [
       "0/35                                                                                                          …"
      ]
     },
     "metadata": {},
     "output_type": "display_data"
    },
    {
     "name": "stdout",
     "output_type": "stream",
     "text": [
      "\n",
      "Epoch 77: val_f1_score did not improve from 0.93413\n",
      "Epoch 78/100\n"
     ]
    },
    {
     "data": {
      "application/vnd.jupyter.widget-view+json": {
       "model_id": "a676fc49e05f4cae9e2cab2f0515028c",
       "version_major": 2,
       "version_minor": 0
      },
      "text/plain": [
       "0/35                                                                                                          …"
      ]
     },
     "metadata": {},
     "output_type": "display_data"
    },
    {
     "name": "stdout",
     "output_type": "stream",
     "text": [
      "\n",
      "Epoch 78: val_f1_score did not improve from 0.93413\n",
      "Epoch 79/100\n"
     ]
    },
    {
     "data": {
      "application/vnd.jupyter.widget-view+json": {
       "model_id": "0cdc2065ef3040b2b72e8c62fb8b1b3c",
       "version_major": 2,
       "version_minor": 0
      },
      "text/plain": [
       "0/35                                                                                                          …"
      ]
     },
     "metadata": {},
     "output_type": "display_data"
    },
    {
     "name": "stdout",
     "output_type": "stream",
     "text": [
      "\n",
      "Epoch 79: val_f1_score did not improve from 0.93413\n",
      "Epoch 80/100\n"
     ]
    },
    {
     "data": {
      "application/vnd.jupyter.widget-view+json": {
       "model_id": "89ea8418273a4502b2a4e2869a0eebed",
       "version_major": 2,
       "version_minor": 0
      },
      "text/plain": [
       "0/35                                                                                                          …"
      ]
     },
     "metadata": {},
     "output_type": "display_data"
    },
    {
     "name": "stdout",
     "output_type": "stream",
     "text": [
      "\n",
      "Epoch 80: val_f1_score did not improve from 0.93413\n",
      "Epoch 81/100\n"
     ]
    },
    {
     "data": {
      "application/vnd.jupyter.widget-view+json": {
       "model_id": "156490e607e44c3d9cdae2110a6ef69d",
       "version_major": 2,
       "version_minor": 0
      },
      "text/plain": [
       "0/35                                                                                                          …"
      ]
     },
     "metadata": {},
     "output_type": "display_data"
    },
    {
     "name": "stdout",
     "output_type": "stream",
     "text": [
      "\n",
      "Epoch 81: val_f1_score did not improve from 0.93413\n",
      "Epoch 82/100\n"
     ]
    },
    {
     "data": {
      "application/vnd.jupyter.widget-view+json": {
       "model_id": "86b7a1527f654bf6acfacf7a5701cf3c",
       "version_major": 2,
       "version_minor": 0
      },
      "text/plain": [
       "0/35                                                                                                          …"
      ]
     },
     "metadata": {},
     "output_type": "display_data"
    },
    {
     "name": "stdout",
     "output_type": "stream",
     "text": [
      "\n",
      "Epoch 82: val_f1_score did not improve from 0.93413\n",
      "Epoch 83/100\n"
     ]
    },
    {
     "data": {
      "application/vnd.jupyter.widget-view+json": {
       "model_id": "8d0050140f264ca580cf83ebfb47c27c",
       "version_major": 2,
       "version_minor": 0
      },
      "text/plain": [
       "0/35                                                                                                          …"
      ]
     },
     "metadata": {},
     "output_type": "display_data"
    },
    {
     "name": "stdout",
     "output_type": "stream",
     "text": [
      "\n",
      "Epoch 83: val_f1_score did not improve from 0.93413\n",
      "Epoch 84/100\n"
     ]
    },
    {
     "data": {
      "application/vnd.jupyter.widget-view+json": {
       "model_id": "2c1b68541a984960ad16d6aa94cd6df6",
       "version_major": 2,
       "version_minor": 0
      },
      "text/plain": [
       "0/35                                                                                                          …"
      ]
     },
     "metadata": {},
     "output_type": "display_data"
    },
    {
     "name": "stdout",
     "output_type": "stream",
     "text": [
      "\n",
      "Epoch 84: val_f1_score did not improve from 0.93413\n",
      "Epoch 85/100\n"
     ]
    },
    {
     "data": {
      "application/vnd.jupyter.widget-view+json": {
       "model_id": "51bd602ac44145c19c2eb7e1e02239ed",
       "version_major": 2,
       "version_minor": 0
      },
      "text/plain": [
       "0/35                                                                                                          …"
      ]
     },
     "metadata": {},
     "output_type": "display_data"
    },
    {
     "name": "stdout",
     "output_type": "stream",
     "text": [
      "\n",
      "Epoch 85: val_f1_score did not improve from 0.93413\n",
      "Epoch 86/100\n"
     ]
    },
    {
     "data": {
      "application/vnd.jupyter.widget-view+json": {
       "model_id": "acaaa85e677740c590dfaf5f6a8730c8",
       "version_major": 2,
       "version_minor": 0
      },
      "text/plain": [
       "0/35                                                                                                          …"
      ]
     },
     "metadata": {},
     "output_type": "display_data"
    },
    {
     "name": "stdout",
     "output_type": "stream",
     "text": [
      "\n",
      "Epoch 86: val_f1_score did not improve from 0.93413\n",
      "Epoch 87/100\n"
     ]
    },
    {
     "data": {
      "application/vnd.jupyter.widget-view+json": {
       "model_id": "691827b271944c7ab98ea7934d89ef33",
       "version_major": 2,
       "version_minor": 0
      },
      "text/plain": [
       "0/35                                                                                                          …"
      ]
     },
     "metadata": {},
     "output_type": "display_data"
    },
    {
     "name": "stdout",
     "output_type": "stream",
     "text": [
      "\n",
      "Epoch 87: val_f1_score did not improve from 0.93413\n",
      "Epoch 88/100\n"
     ]
    },
    {
     "data": {
      "application/vnd.jupyter.widget-view+json": {
       "model_id": "1ed5a8af09484b1099bc14ab3a6eaf66",
       "version_major": 2,
       "version_minor": 0
      },
      "text/plain": [
       "0/35                                                                                                          …"
      ]
     },
     "metadata": {},
     "output_type": "display_data"
    },
    {
     "name": "stdout",
     "output_type": "stream",
     "text": [
      "\n",
      "Epoch 88: val_f1_score did not improve from 0.93413\n",
      "Epoch 89/100\n"
     ]
    },
    {
     "data": {
      "application/vnd.jupyter.widget-view+json": {
       "model_id": "be59a66ebd404174b0bf7b23d55a5cab",
       "version_major": 2,
       "version_minor": 0
      },
      "text/plain": [
       "0/35                                                                                                          …"
      ]
     },
     "metadata": {},
     "output_type": "display_data"
    },
    {
     "name": "stdout",
     "output_type": "stream",
     "text": [
      "\n",
      "Epoch 89: val_f1_score did not improve from 0.93413\n",
      "Epoch 90/100\n"
     ]
    },
    {
     "data": {
      "application/vnd.jupyter.widget-view+json": {
       "model_id": "d2439ea97cdb4037bc8381bc0fa9033e",
       "version_major": 2,
       "version_minor": 0
      },
      "text/plain": [
       "0/35                                                                                                          …"
      ]
     },
     "metadata": {},
     "output_type": "display_data"
    },
    {
     "name": "stdout",
     "output_type": "stream",
     "text": [
      "\n",
      "Epoch 90: val_f1_score did not improve from 0.93413\n",
      "Epoch 91/100\n"
     ]
    },
    {
     "data": {
      "application/vnd.jupyter.widget-view+json": {
       "model_id": "f876f784cae74f96b50ac6d51622b2b3",
       "version_major": 2,
       "version_minor": 0
      },
      "text/plain": [
       "0/35                                                                                                          …"
      ]
     },
     "metadata": {},
     "output_type": "display_data"
    },
    {
     "name": "stdout",
     "output_type": "stream",
     "text": [
      "\n",
      "Epoch 91: val_f1_score did not improve from 0.93413\n",
      "Epoch 92/100\n"
     ]
    },
    {
     "data": {
      "application/vnd.jupyter.widget-view+json": {
       "model_id": "a9c1ac492e9d4596bde8b6b08ef502ea",
       "version_major": 2,
       "version_minor": 0
      },
      "text/plain": [
       "0/35                                                                                                          …"
      ]
     },
     "metadata": {},
     "output_type": "display_data"
    },
    {
     "name": "stdout",
     "output_type": "stream",
     "text": [
      "\n",
      "Epoch 92: val_f1_score did not improve from 0.93413\n",
      "Epoch 93/100\n"
     ]
    },
    {
     "data": {
      "application/vnd.jupyter.widget-view+json": {
       "model_id": "ff78d2671afd498cb830ae170664916e",
       "version_major": 2,
       "version_minor": 0
      },
      "text/plain": [
       "0/35                                                                                                          …"
      ]
     },
     "metadata": {},
     "output_type": "display_data"
    },
    {
     "name": "stdout",
     "output_type": "stream",
     "text": [
      "\n",
      "Epoch 93: val_f1_score did not improve from 0.93413\n",
      "Epoch 94/100\n"
     ]
    },
    {
     "data": {
      "application/vnd.jupyter.widget-view+json": {
       "model_id": "ff50c8ff89974d53bbe7bdbeb65e73c9",
       "version_major": 2,
       "version_minor": 0
      },
      "text/plain": [
       "0/35                                                                                                          …"
      ]
     },
     "metadata": {},
     "output_type": "display_data"
    },
    {
     "name": "stdout",
     "output_type": "stream",
     "text": [
      "\n",
      "Epoch 94: val_f1_score did not improve from 0.93413\n",
      "Epoch 95/100\n"
     ]
    },
    {
     "data": {
      "application/vnd.jupyter.widget-view+json": {
       "model_id": "ca4997913016431db23bfac2b0442389",
       "version_major": 2,
       "version_minor": 0
      },
      "text/plain": [
       "0/35                                                                                                          …"
      ]
     },
     "metadata": {},
     "output_type": "display_data"
    },
    {
     "name": "stdout",
     "output_type": "stream",
     "text": [
      "\n",
      "Epoch 95: val_f1_score did not improve from 0.93413\n",
      "Epoch 96/100\n"
     ]
    },
    {
     "data": {
      "application/vnd.jupyter.widget-view+json": {
       "model_id": "93bc35a2a17148488d8add8f57f0baa8",
       "version_major": 2,
       "version_minor": 0
      },
      "text/plain": [
       "0/35                                                                                                          …"
      ]
     },
     "metadata": {},
     "output_type": "display_data"
    },
    {
     "name": "stdout",
     "output_type": "stream",
     "text": [
      "\n",
      "Epoch 96: val_f1_score did not improve from 0.93413\n",
      "Epoch 97/100\n"
     ]
    },
    {
     "data": {
      "application/vnd.jupyter.widget-view+json": {
       "model_id": "1b28895238ec4fee925fb41e6e230194",
       "version_major": 2,
       "version_minor": 0
      },
      "text/plain": [
       "0/35                                                                                                          …"
      ]
     },
     "metadata": {},
     "output_type": "display_data"
    },
    {
     "name": "stdout",
     "output_type": "stream",
     "text": [
      "\n",
      "Epoch 97: val_f1_score did not improve from 0.93413\n",
      "Epoch 98/100\n"
     ]
    },
    {
     "data": {
      "application/vnd.jupyter.widget-view+json": {
       "model_id": "3e62a78cc2054b6aaf4a3b15ba0c37fc",
       "version_major": 2,
       "version_minor": 0
      },
      "text/plain": [
       "0/35                                                                                                          …"
      ]
     },
     "metadata": {},
     "output_type": "display_data"
    },
    {
     "name": "stdout",
     "output_type": "stream",
     "text": [
      "\n",
      "Epoch 98: val_f1_score did not improve from 0.93413\n",
      "Epoch 99/100\n"
     ]
    },
    {
     "data": {
      "application/vnd.jupyter.widget-view+json": {
       "model_id": "5c92a0565a444a5eb377e0beb35fdc86",
       "version_major": 2,
       "version_minor": 0
      },
      "text/plain": [
       "0/35                                                                                                          …"
      ]
     },
     "metadata": {},
     "output_type": "display_data"
    },
    {
     "name": "stdout",
     "output_type": "stream",
     "text": [
      "\n",
      "Epoch 99: val_f1_score did not improve from 0.93413\n",
      "Epoch 100/100\n"
     ]
    },
    {
     "data": {
      "application/vnd.jupyter.widget-view+json": {
       "model_id": "b4126300ce6b421dad6bcf3d01dddad6",
       "version_major": 2,
       "version_minor": 0
      },
      "text/plain": [
       "0/35                                                                                                          …"
      ]
     },
     "metadata": {},
     "output_type": "display_data"
    },
    {
     "name": "stdout",
     "output_type": "stream",
     "text": [
      "\n",
      "Epoch 100: val_f1_score did not improve from 0.93413\n"
     ]
    }
   ],
   "source": [
    "class_0_weight = (1 / healthy_count) * (image_count / 2.0)\n",
    "class_1_weight = (1 / wssv_count) * (image_count / 2.0)\n",
    "class_weight = {0: class_0_weight, 1: class_1_weight}\n",
    "\n",
    "callbacks = [\n",
    "    tf.keras.callbacks.EarlyStopping(patience=CONFIG[\"es_patience\"]),\n",
    "    tf.keras.callbacks.ModelCheckpoint(\n",
    "        filepath=\"checkpoints/cp-{epoch:04d}.ckpt\",\n",
    "        save_weights_only=True,\n",
    "        monitor=\"val_f1_score\",\n",
    "        mode=\"max\",\n",
    "        verbose=1,\n",
    "        save_best_only=True,\n",
    "    ),\n",
    "    tfa.callbacks.TQDMProgressBar()\n",
    "]\n",
    "\n",
    "model = create_model()\n",
    "\n",
    "history = model.fit(\n",
    "    train_dataset,\n",
    "    epochs=CONFIG[\"epochs\"],\n",
    "    validation_data=validation_dataset,\n",
    "    class_weight=class_weight,\n",
    "    callbacks=callbacks,\n",
    "    verbose=0\n",
    ")"
   ]
  },
  {
   "cell_type": "code",
   "execution_count": 23,
   "metadata": {
    "colab": {
     "base_uri": "https://localhost:8080/",
     "height": 264
    },
    "id": "r-aEGjYd2BZU",
    "outputId": "70eae248-0ec4-4ef0-d283-cda40fedb8c8"
   },
   "outputs": [
    {
     "data": {
      "image/png": "[encoded data removed]",
      "text/plain": [
       "<Figure size 3000x500 with 5 Axes>"
      ]
     },
     "metadata": {},
     "output_type": "display_data"
    }
   ],
   "source": [
    "plt.figure(figsize=(30, 5), dpi=100)\n",
    "\n",
    "plt.subplot(1, 5, 1)\n",
    "plt.plot(history.history[\"loss\"], label=\"Training Loss\")\n",
    "plt.plot(history.history[\"val_loss\"], label=\"Validation Loss\")\n",
    "plt.legend(loc=\"upper right\")\n",
    "plt.ylabel(\"Cross Entropy\")\n",
    "plt.ylim([0, 1.1])\n",
    "plt.xlim([0, history.epoch[-1]])\n",
    "plt.title(\"Training and Validation Loss\")\n",
    "plt.xlabel(\"Epoch\")\n",
    "\n",
    "plt.subplot(1, 5, 2)\n",
    "plt.plot(history.history[\"f1_score\"], label=\"Training F1 Score\")\n",
    "plt.plot(history.history[\"val_f1_score\"], label=\"Validation F1 Score\")\n",
    "plt.legend(loc=\"lower right\")\n",
    "plt.ylabel(\"F1 Score\")\n",
    "plt.ylim([0, 1.1])\n",
    "plt.xlim([0, history.epoch[-1]])\n",
    "plt.title(\"F1 Score\")\n",
    "plt.xlabel(\"Epoch\")\n",
    "\n",
    "plt.subplot(1, 5, 3)\n",
    "plt.plot(history.history[\"precision\"], label=\"Training Precision\")\n",
    "plt.plot(history.history[\"val_precision\"], label=\"Validation Precision\")\n",
    "plt.legend(loc=\"lower right\")\n",
    "plt.ylabel(\"Precision\")\n",
    "plt.ylim([0, 1.1])\n",
    "plt.xlim([0, history.epoch[-1]])\n",
    "plt.xlabel(\"Epoch\")\n",
    "plt.title(\"Precision\")\n",
    "\n",
    "plt.subplot(1, 5, 4)\n",
    "plt.plot(history.history[\"recall\"], label=\"Training Recall\")\n",
    "plt.plot(history.history[\"val_recall\"], label=\"Validation Recall\")\n",
    "plt.legend(loc=\"lower right\")\n",
    "plt.ylabel(\"Recall\")\n",
    "plt.ylim([0, 1.1])\n",
    "plt.xlim([0, history.epoch[-1]])\n",
    "plt.title(\"Recall\")\n",
    "plt.xlabel(\"Epoch\")\n",
    "\n",
    "false_neg = history.history[\"false_negatives\"]\n",
    "val_false_neg = history.history[\"val_false_negatives\"]\n",
    "\n",
    "fnr = np.array(history.history[\"false_negatives\"]) / (np.array(history.history[\"false_negatives\"]) + np.array(history.history[\"true_positives\"]))\n",
    "fnr = np.array(history.history[\"val_false_negatives\"]) / (np.array(history.history[\"val_false_negatives\"]) + np.array(history.history[\"val_true_positives\"]))\n",
    "plt.subplot(1, 5, 5)\n",
    "plt.plot(false_neg, label=\"Training False Negative Rate\")\n",
    "plt.plot(val_false_neg, label=\"Validation False Negative Rate\")\n",
    "plt.legend(loc=\"upper right\")\n",
    "plt.ylabel(\"False Negative Rate\")\n",
    "plt.ylim([0, 100])\n",
    "plt.xlim([0, history.epoch[-1]])\n",
    "plt.title(\"False Negative Rate\")\n",
    "plt.xlabel(\"Epoch\")\n",
    "\n",
    "plt.show()"
   ]
  },
  {
   "cell_type": "code",
   "execution_count": null,
   "metadata": {},
   "outputs": [],
   "source": []
  }
 ],
 "metadata": {
  "accelerator": "GPU",
  "colab": {
   "gpuType": "T4",
   "provenance": []
  },
  "gpuClass": "standard",
  "kernelspec": {
   "display_name": "Python 3 (ipykernel)",
   "language": "python",
   "name": "python3"
  },
  "language_info": {
   "codemirror_mode": {
    "name": "ipython",
    "version": 3
   },
   "file_extension": ".py",
   "mimetype": "text/x-python",
   "name": "python",
   "nbconvert_exporter": "python",
   "pygments_lexer": "ipython3",
   "version": "3.9.16"
  },
  "widgets": {
   "application/vnd.jupyter.widget-state+json": {
    "19fbf49384084b1d8658836d5ad040d8": {
     "model_module": "@jupyter-widgets/controls",
     "model_module_version": "1.5.0",
     "model_name": "FloatProgressModel",
     "state": {
      "_dom_classes": [],
      "_model_module": "@jupyter-widgets/controls",
      "_model_module_version": "1.5.0",
      "_model_name": "FloatProgressModel",
      "_view_count": null,
      "_view_module": "@jupyter-widgets/controls",
      "_view_module_version": "1.5.0",
      "_view_name": "ProgressView",
      "bar_style": "",
      "description": "",
      "description_tooltip": null,
      "layout": "IPY_MODEL_aeced38fc04346b19133dff73ba90fe6",
      "max": 1,
      "min": 0,
      "orientation": "horizontal",
      "style": "IPY_MODEL_9bcd609a33824c55886033a8e7eb40c6",
      "value": 1
     }
    },
    "5e2e005a1f1b4db8bd4f860340ef9449": {
     "model_module": "@jupyter-widgets/base",
     "model_module_version": "1.2.0",
     "model_name": "LayoutModel",
     "state": {
      "_model_module": "@jupyter-widgets/base",
      "_model_module_version": "1.2.0",
      "_model_name": "LayoutModel",
      "_view_count": null,
      "_view_module": "@jupyter-widgets/base",
      "_view_module_version": "1.2.0",
      "_view_name": "LayoutView",
      "align_content": null,
      "align_items": null,
      "align_self": null,
      "border": null,
      "bottom": null,
      "display": null,
      "flex": null,
      "flex_flow": null,
      "grid_area": null,
      "grid_auto_columns": null,
      "grid_auto_flow": null,
      "grid_auto_rows": null,
      "grid_column": null,
      "grid_gap": null,
      "grid_row": null,
      "grid_template_areas": null,
      "grid_template_columns": null,
      "grid_template_rows": null,
      "height": null,
      "justify_content": null,
      "justify_items": null,
      "left": null,
      "margin": null,
      "max_height": null,
      "max_width": null,
      "min_height": null,
      "min_width": null,
      "object_fit": null,
      "object_position": null,
      "order": null,
      "overflow": null,
      "overflow_x": null,
      "overflow_y": null,
      "padding": null,
      "right": null,
      "top": null,
      "visibility": null,
      "width": null
     }
    },
    "7816f79250a04bfab901822eaaece71b": {
     "model_module": "@jupyter-widgets/controls",
     "model_module_version": "1.5.0",
     "model_name": "LabelModel",
     "state": {
      "_dom_classes": [],
      "_model_module": "@jupyter-widgets/controls",
      "_model_module_version": "1.5.0",
      "_model_name": "LabelModel",
      "_view_count": null,
      "_view_module": "@jupyter-widgets/controls",
      "_view_module_version": "1.5.0",
      "_view_name": "LabelView",
      "description": "",
      "description_tooltip": null,
      "layout": "IPY_MODEL_5e2e005a1f1b4db8bd4f860340ef9449",
      "placeholder": "​",
      "style": "IPY_MODEL_a6b081a8770345e58aa541a08897f207",
      "value": "0.002 MB of 0.002 MB uploaded (0.000 MB deduped)\r"
     }
    },
    "9bcd609a33824c55886033a8e7eb40c6": {
     "model_module": "@jupyter-widgets/controls",
     "model_module_version": "1.5.0",
     "model_name": "ProgressStyleModel",
     "state": {
      "_model_module": "@jupyter-widgets/controls",
      "_model_module_version": "1.5.0",
      "_model_name": "ProgressStyleModel",
      "_view_count": null,
      "_view_module": "@jupyter-widgets/base",
      "_view_module_version": "1.2.0",
      "_view_name": "StyleView",
      "bar_color": null,
      "description_width": ""
     }
    },
    "a6b081a8770345e58aa541a08897f207": {
     "model_module": "@jupyter-widgets/controls",
     "model_module_version": "1.5.0",
     "model_name": "DescriptionStyleModel",
     "state": {
      "_model_module": "@jupyter-widgets/controls",
      "_model_module_version": "1.5.0",
      "_model_name": "DescriptionStyleModel",
      "_view_count": null,
      "_view_module": "@jupyter-widgets/base",
      "_view_module_version": "1.2.0",
      "_view_name": "StyleView",
      "description_width": ""
     }
    },
    "aeced38fc04346b19133dff73ba90fe6": {
     "model_module": "@jupyter-widgets/base",
     "model_module_version": "1.2.0",
     "model_name": "LayoutModel",
     "state": {
      "_model_module": "@jupyter-widgets/base",
      "_model_module_version": "1.2.0",
      "_model_name": "LayoutModel",
      "_view_count": null,
      "_view_module": "@jupyter-widgets/base",
      "_view_module_version": "1.2.0",
      "_view_name": "LayoutView",
      "align_content": null,
      "align_items": null,
      "align_self": null,
      "border": null,
      "bottom": null,
      "display": null,
      "flex": null,
      "flex_flow": null,
      "grid_area": null,
      "grid_auto_columns": null,
      "grid_auto_flow": null,
      "grid_auto_rows": null,
      "grid_column": null,
      "grid_gap": null,
      "grid_row": null,
      "grid_template_areas": null,
      "grid_template_columns": null,
      "grid_template_rows": null,
      "height": null,
      "justify_content": null,
      "justify_items": null,
      "left": null,
      "margin": null,
      "max_height": null,
      "max_width": null,
      "min_height": null,
      "min_width": null,
      "object_fit": null,
      "object_position": null,
      "order": null,
      "overflow": null,
      "overflow_x": null,
      "overflow_y": null,
      "padding": null,
      "right": null,
      "top": null,
      "visibility": null,
      "width": null
     }
    },
    "cad101299d304c5987752beabb7b3522": {
     "model_module": "@jupyter-widgets/base",
     "model_module_version": "1.2.0",
     "model_name": "LayoutModel",
     "state": {
      "_model_module": "@jupyter-widgets/base",
      "_model_module_version": "1.2.0",
      "_model_name": "LayoutModel",
      "_view_count": null,
      "_view_module": "@jupyter-widgets/base",
      "_view_module_version": "1.2.0",
      "_view_name": "LayoutView",
      "align_content": null,
      "align_items": null,
      "align_self": null,
      "border": null,
      "bottom": null,
      "display": null,
      "flex": null,
      "flex_flow": null,
      "grid_area": null,
      "grid_auto_columns": null,
      "grid_auto_flow": null,
      "grid_auto_rows": null,
      "grid_column": null,
      "grid_gap": null,
      "grid_row": null,
      "grid_template_areas": null,
      "grid_template_columns": null,
      "grid_template_rows": null,
      "height": null,
      "justify_content": null,
      "justify_items": null,
      "left": null,
      "margin": null,
      "max_height": null,
      "max_width": null,
      "min_height": null,
      "min_width": null,
      "object_fit": null,
      "object_position": null,
      "order": null,
      "overflow": null,
      "overflow_x": null,
      "overflow_y": null,
      "padding": null,
      "right": null,
      "top": null,
      "visibility": null,
      "width": null
     }
    },
    "cbad0a06771d4ed59eaf8cde1980d4ea": {
     "model_module": "@jupyter-widgets/controls",
     "model_module_version": "1.5.0",
     "model_name": "VBoxModel",
     "state": {
      "_dom_classes": [],
      "_model_module": "@jupyter-widgets/controls",
      "_model_module_version": "1.5.0",
      "_model_name": "VBoxModel",
      "_view_count": null,
      "_view_module": "@jupyter-widgets/controls",
      "_view_module_version": "1.5.0",
      "_view_name": "VBoxView",
      "box_style": "",
      "children": [
       "IPY_MODEL_7816f79250a04bfab901822eaaece71b",
       "IPY_MODEL_19fbf49384084b1d8658836d5ad040d8"
      ],
      "layout": "IPY_MODEL_cad101299d304c5987752beabb7b3522"
     }
    }
   }
  }
 },
 "nbformat": 4,
 "nbformat_minor": 4
}
